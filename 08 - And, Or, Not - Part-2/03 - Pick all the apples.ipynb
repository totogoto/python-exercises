{
 "cells": [
  {
   "cell_type": "code",
   "execution_count": 15,
   "metadata": {},
   "outputs": [],
   "source": [
    "from worlds.levels import get_robo"
   ]
  },
  {
   "cell_type": "markdown",
   "metadata": {},
   "source": [
    "# Pick all the Apples\n",
    "\n",
    "Help otto to pick up all the apples and take it home.\n",
    "You need to use `bot.put()` at the home to move all the apples\n",
    "\n",
    "Otto can carry only 3 at a time!\n",
    "\n",
    "\n",
    "### What you need to know\n",
    "\n",
    "- The functions `move()`, `turn_left()` to move and turn otto around\n",
    "- calling `move()` in front of a wall causes otto to crash into the wall and the program errors out. Please take care of otto 🤗\n",
    "- The function `take()` will pick up the object in the current cell. Otto needs to pick the correct objects and leave the rest in place\n",
    "- The function `put()` will drop the object in the current cell.\n",
    "\n",
    "- The function `object_here()` returns the object in the current cell (in this case \"banana\" on cells with banana)\n",
    "- The function `at_goal()` returns True, if house is on the current cell.\n",
    "- How to use while loops."
   ]
  },
  {
   "cell_type": "code",
   "execution_count": 17,
   "metadata": {},
   "outputs": [
    {
     "data": {
      "application/vnd.jupyter.widget-view+json": {
       "model_id": "2d9e7c4e14d34bb2a5a996b068f54029",
       "version_major": 2,
       "version_minor": 0
      },
      "text/plain": [
       "Maze()"
      ]
     },
     "metadata": {},
     "output_type": "display_data"
    },
    {
     "data": {
      "text/html": [
       "<text style=color:red>✗ Expected: Final Position: 15,1</text>"
      ],
      "text/plain": [
       "<IPython.core.display.HTML object>"
      ]
     },
     "metadata": {},
     "output_type": "display_data"
    }
   ],
   "source": [
    "bot  = get_robo(\"only_x\")\n",
    "#your code here\n",
    "\n",
    "#check the solution\n",
    "bot.check()"
   ]
  },
  {
   "cell_type": "code",
   "execution_count": null,
   "metadata": {},
   "outputs": [],
   "source": []
  }
 ],
 "metadata": {
  "kernelspec": {
   "display_name": "Python 3 (system-wide)",
   "language": "python",
   "name": "python3"
  },
  "language_info": {
   "codemirror_mode": {
    "name": "ipython",
    "version": 3
   },
   "file_extension": ".py",
   "mimetype": "text/x-python",
   "name": "python",
   "nbconvert_exporter": "python",
   "pygments_lexer": "ipython3",
   "version": "3.8.10"
  }
 },
 "nbformat": 4,
 "nbformat_minor": 4
}
