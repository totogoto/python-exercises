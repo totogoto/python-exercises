{
 "cells": [
  {
   "cell_type": "markdown",
   "metadata": {},
   "source": [
    "### Guessing Game\n",
    "\n",
    "In this game, the computer thinks of a random number between 1 and 100. The player has 10 chances to guess the number. After each guess, the computer tells the player if it was too high or too low.\n",
    "\n",
    "Sample output\n",
    "\n",
    "<code>\n",
    "I am thinking of a number between 1 and 100.\n",
    "You have 10 guesses left. Take a guess.\n",
    "> 50\n",
    "Your guess is too high.\n",
    "You have 9 guesses left. Take a guess.\n",
    "> 25\n",
    "Your guess is too low.\n",
    "--snip--\n",
    "You have 5 guesses left. Take a guess.\n",
    "> 42\n",
    "Yay! You guessed my number!\n",
    "</code>\n",
    "\n",
    "### What you need to know\n",
    "- using `random.randint(a,b)` to generate a guess\n",
    "- `input()` to get users guess and `int()` to convert to a number\n",
    "- `while` loop to keep asking upto 10 times or user guesses correct \n",
    "\n",
    "#### Problems to consider\n",
    "- How do keep track of how many times the user has guessed?\n",
    "- What happens if the user did not enter a number?\n",
    "- Condition to stop the game?"
   ]
  },
  {
   "cell_type": "code",
   "execution_count": null,
   "metadata": {},
   "outputs": [],
   "source": []
  },
  {
   "cell_type": "code",
   "execution_count": null,
   "metadata": {},
   "outputs": [],
   "source": []
  },
  {
   "cell_type": "code",
   "execution_count": null,
   "metadata": {},
   "outputs": [],
   "source": []
  }
 ],
 "metadata": {
  "kernelspec": {
   "display_name": "Python 3 (system-wide)",
   "language": "python",
   "name": "python3"
  },
  "language_info": {
   "codemirror_mode": {
    "name": "ipython",
    "version": 3
   },
   "file_extension": ".py",
   "mimetype": "text/x-python",
   "name": "python",
   "nbconvert_exporter": "python",
   "pygments_lexer": "ipython3",
   "version": "3.8.10"
  }
 },
 "nbformat": 4,
 "nbformat_minor": 4
}
