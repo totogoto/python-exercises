{
 "cells": [
  {
   "cell_type": "markdown",
   "metadata": {},
   "source": [
    "### Rock Paper Scissors\n",
    "\n",
    "In this version of the two-player hand game also known as Rochambeau or jan-ken-pon, the player faces off against the computer. You can pick either rock, paper, or scissors. Rock beats scissors, scissors beats paper, and paper beats rock. \n",
    "\n",
    "Sample output\n",
    "\n",
    "<code>\n",
    "- Rock beats scissors.\n",
    "- Paper beats rocks.\n",
    "- Scissors beats paper.\n",
    "\n",
    "0 Wins, 0 Losses, 0 Ties\n",
    "Enter your move: (R)ock (P)aper (S)cissors or (Q)uit : r\n",
    "ROCK versus...\n",
    "in 1...2...3...\n",
    "SCISSORS\n",
    "You win!\n",
    "1 Wins, 0 Losses, 0 Ties\n",
    "Enter your move: (R)ock (P)aper (S)cissors or (Q)uit\n",
    "</code>\n",
    "\n",
    "#### What you need to know\n",
    "- `input()` to get users guess \n",
    "- using `random.randint(a,b)` or `random.choice([])` to generate the computers guess\n",
    "- `while` loop to keep asking until users wants to quit\n",
    "- `time.sleep(1)` to pause in between 1...2...3...\n",
    "\n",
    "#### Problems to consider\n",
    "- How do keep score?\n",
    "- how do you check the user's input and computer's guess to affect the score?\n",
    "- What happens if the user did not enter either r/p/s/q ?\n"
   ]
  },
  {
   "cell_type": "code",
   "execution_count": null,
   "metadata": {},
   "outputs": [],
   "source": []
  },
  {
   "cell_type": "code",
   "execution_count": null,
   "metadata": {},
   "outputs": [],
   "source": []
  },
  {
   "cell_type": "code",
   "execution_count": null,
   "metadata": {},
   "outputs": [],
   "source": []
  }
 ],
 "metadata": {
  "kernelspec": {
   "display_name": "Python 3 (system-wide)",
   "language": "python",
   "name": "python3"
  },
  "language_info": {
   "codemirror_mode": {
    "name": "ipython",
    "version": 3
   },
   "file_extension": ".py",
   "mimetype": "text/x-python",
   "name": "python",
   "nbconvert_exporter": "python",
   "pygments_lexer": "ipython3",
   "version": "3.8.10"
  }
 },
 "nbformat": 4,
 "nbformat_minor": 4
}
