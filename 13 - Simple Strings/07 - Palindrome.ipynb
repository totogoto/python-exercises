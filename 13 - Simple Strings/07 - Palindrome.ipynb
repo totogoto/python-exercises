{
 "cells": [
  {
   "cell_type": "code",
   "execution_count": 1,
   "metadata": {},
   "outputs": [],
   "source": [
    "from worlds.levels import get_robo"
   ]
  },
  {
   "cell_type": "markdown",
   "metadata": {},
   "source": [
    "# Palindrome\n",
    "\n",
    "Master needs to know if the message is a plaindrome or not!\n",
    "\n",
    "Help otto solve it for its master\n",
    "\n",
    "#### Tasks\n",
    "- Given a string, write a python function called is_palindrome to check if it is palindrome or not. \n",
    "A string is said to be palindrome if the reverse of the string is the same as string. For example, “radar” is a palindrome, but “radix” is not a palindrome.\n",
    "- The function should take 1 parameter - that can be any string and should return a boolean (True or False)\n",
    "- Use this function to solve the exercise \n",
    "\n",
    "### What you need to know\n",
    "\n",
    "- The functions `move()` to move.\n",
    "- calling `move()` in front of a wall causes otto to crash into the wall and the program errors out. Please take care of otto 🤗\n",
    "- The function `object_here()` returns name of the objects if object in the current cell.\n",
    "\n",
    "- The function `take()` will pick up the object in the current cell. Otto needs to pick the correct objects and leave the rest in place\n",
    "- The function `message_here()` returns True if message in the current cell.\n",
    "- The function `read_message()` returns the message if the message in the current cell.\n",
    "- The function `at_goal()` returns True, if house is on the current cell.\n",
    "- How to use `reverse`.\n",
    "\n",
    "#### Python String Functions [Goto Docs](https://www.freecodecamp.org/news/how-to-substring-a-string-in-python/)\n",
    "- `string[start:end]`: Get all characters from index start to end-1\n",
    "\n",
    "- `string[:end]`: Get all characters from the beginning of the string to end-1\n",
    "\n",
    "- `string[start:]`: Get all characters from index start to the end of the string\n",
    "\n",
    "- `string[start: end: step]` Get all characters from start to end-1 discounting every step character\n"
   ]
  },
  {
   "cell_type": "code",
   "execution_count": 3,
   "metadata": {},
   "outputs": [
    {
     "data": {
      "application/vnd.jupyter.widget-view+json": {
       "model_id": "c9a6cffcbb784b42adda5a028c7ab5a4",
       "version_major": 2,
       "version_minor": 0
      },
      "text/plain": [
       "Maze()"
      ]
     },
     "metadata": {},
     "output_type": "display_data"
    },
    {
     "data": {
      "text/html": [
       "<text style=color:red>✗ Expected: Not Palindrome</text>"
      ],
      "text/plain": [
       "<IPython.core.display.HTML object>"
      ]
     },
     "metadata": {},
     "output_type": "display_data"
    }
   ],
   "source": [
    "def is_palindrome(s):\n",
    "    #your code here to check if s is a palindrome or not. If it is return True otherwise return False\n",
    "    pass\n",
    "\n",
    "bot = get_robo(\"palindrome\")\n",
    "message = \"change this\"\n",
    "#your code here. Use is_palindrome(message) to check and report \"Palindrome\" or \"Not Palindrome\"\n",
    "    \n",
    "    \n",
    "bot.check()"
   ]
  }
 ],
 "metadata": {
  "kernelspec": {
   "display_name": "Python 3",
   "language": "python",
   "name": "python3"
  },
  "language_info": {
   "codemirror_mode": {
    "name": "ipython",
    "version": 3
   },
   "file_extension": ".py",
   "mimetype": "text/x-python",
   "name": "python",
   "nbconvert_exporter": "python",
   "pygments_lexer": "ipython3",
   "version": "3.8.8"
  }
 },
 "nbformat": 4,
 "nbformat_minor": 4
}
