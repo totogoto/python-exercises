{
 "cells": [
  {
   "cell_type": "code",
   "execution_count": 3,
   "metadata": {},
   "outputs": [],
   "source": [
    "from worlds.levels import get_robo"
   ]
  },
  {
   "cell_type": "markdown",
   "metadata": {
    "hideCode": true,
    "hideOutput": true
   },
   "source": [
    "# Fix the typo\n",
    "\n",
    "Otto's keyboard is not working properly, its adding random characters while typing.\n",
    "Help otto to correct the message by replacing the middle word (always a 4 letter word - now 8 because of typos) Eg. `I lriekce python` should read `I like python`\n",
    "correct the middle world by picking only alternate characters.\n",
    "\n",
    "\n",
    "### What you need to know\n",
    "\n",
    "- The functions `move()` to move.\n",
    "- calling `move()` in front of a wall causes otto to crash into the wall and the program errors out. Please take care of otto 🤗\n",
    "- The function `object_here()` returns name of the objects if object in the current cell.\n",
    "\n",
    "- The function `take()` will pick up the object in the current cell. Otto needs to pick the correct objects and leave the rest in place\n",
    "- The function `message_here()` returns True if message in the current cell.\n",
    "- The function `read_message()` returns the message if the message in the current cell.\n",
    "- The function `at_goal()` returns True, if house is on the current cell.\n",
    "- How to use `slice` and `replace`.\n",
    "\n",
    "#### Python String Functions [Goto Docs](https://docs.python.org/3/library/stdtypes.html?highlight=replace#str.replace)\n",
    "- `replace(old, new[, count])` Return a copy of the string with all occurrences of substring old replaced by new. If the optional argument count is given, only the first count occurrences are replaced\n",
    "\n",
    "- `string[start:end]`: Get all characters from index start to end-1\n",
    "\n",
    "- `string[:end]`: Get all characters from the beginning of the string to end-1\n",
    "\n",
    "- `string[start:]`: Get all characters from index start to the end of the string\n",
    "\n",
    "- `string[start: end: step]` Get all characters from start to end-1 discounting every step character\n"
   ]
  },
  {
   "cell_type": "code",
   "execution_count": 4,
   "metadata": {},
   "outputs": [
    {
     "data": {
      "application/vnd.jupyter.widget-view+json": {
       "model_id": "7048e26d60e44baeafa9a39a04d04fad",
       "version_major": 2,
       "version_minor": 0
      },
      "text/plain": [
       "Maze()"
      ]
     },
     "metadata": {},
     "output_type": "display_data"
    },
    {
     "data": {
      "text/html": [
       "<text style=color:red>✗ Expected: I like python</text>"
      ],
      "text/plain": [
       "<IPython.core.display.HTML object>"
      ]
     },
     "metadata": {},
     "output_type": "display_data"
    }
   ],
   "source": [
    "bot = get_robo(\"slice\")\n",
    "   #your code here\n",
    "bot.check()"
   ]
  },
  {
   "cell_type": "code",
   "execution_count": null,
   "metadata": {},
   "outputs": [],
   "source": []
  }
 ],
 "metadata": {
  "kernelspec": {
   "display_name": "Python 3 (system-wide)",
   "language": "python",
   "name": "python3"
  },
  "language_info": {
   "codemirror_mode": {
    "name": "ipython",
    "version": 3
   },
   "file_extension": ".py",
   "mimetype": "text/x-python",
   "name": "python",
   "nbconvert_exporter": "python",
   "pygments_lexer": "ipython3",
   "version": "3.8.10"
  }
 },
 "nbformat": 4,
 "nbformat_minor": 4
}
