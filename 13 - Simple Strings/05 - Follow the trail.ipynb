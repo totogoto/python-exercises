{
 "cells": [
  {
   "cell_type": "code",
   "execution_count": 1,
   "metadata": {},
   "outputs": [],
   "source": [
    "from worlds.levels import get_robo"
   ]
  },
  {
   "cell_type": "markdown",
   "metadata": {},
   "source": [
    "# Follow the trail to get back home\n",
    "\n",
    "Help Otto to follow the trail of instructions left by master and reach home.<br>\n",
    "\n",
    "The first message is always in the same place but the others are not.<br>\n",
    "To reach the next message read the message and follow the instructions<br>\n",
    "The last message will lead otto to the house!\n",
    "\n",
    "Each instruction will be of the form `MXTY` \n",
    " - MX:  move x steps\n",
    " - TY: turn left y times\n",
    " \n",
    " Eg. `M3T2` means first move 3 steps (in the current direction) and then take 2 left turns\n",
    " \n",
    "### What you need to know\n",
    "\n",
    "- The functions `move()` to move.\n",
    "- calling `move()` in front of a wall causes otto to crash into the wall and the program errors out. Please take care of otto 🤗\n",
    "- The function `message_here()` returns True if message in the current cell.\n",
    "- The function `read_message()` returns the message if the message in the current cell.\n",
    "- The function `at_goal()` returns True, if house is on the current cell.\n",
    "\n",
    "#### Python built in methods\n",
    "- `int(s)` - converts a string to an integer (Takes string returns integer)\n",
    "- `len(s)` - returns the length of the string\n",
    "\n",
    "#### Python string slicing\n",
    "- `string[start:end]`: Get all characters from index start to end-1\n",
    "\n",
    "- `string[:end]`: Get all characters from the beginning of the string to end-1\n",
    "\n",
    "- `string[start:]`: Get all characters from index start to the end of the string\n",
    "\n",
    "- `string[start: end: step]` Get all characters from start to end-1 discounting every step character\n"
   ]
  },
  {
   "cell_type": "code",
   "execution_count": 4,
   "metadata": {},
   "outputs": [
    {
     "data": {
      "application/vnd.jupyter.widget-view+json": {
       "model_id": "3b92e26967c74651a3559bcad57d1396",
       "version_major": 2,
       "version_minor": 0
      },
      "text/plain": [
       "Maze()"
      ]
     },
     "metadata": {},
     "output_type": "display_data"
    },
    {
     "data": {
      "text/html": [
       "<text style=color:red>✗ Expected: Final Position: 8,5</text>"
      ],
      "text/plain": [
       "<IPython.core.display.HTML object>"
      ]
     },
     "metadata": {},
     "output_type": "display_data"
    }
   ],
   "source": [
    "bot = get_robo(\"instructions\")\n",
    "    #your code here\n",
    "bot.move()\n",
    "bot.read_message()\n",
    "    \n",
    "bot.check()"
   ]
  },
  {
   "cell_type": "code",
   "execution_count": null,
   "metadata": {},
   "outputs": [],
   "source": []
  }
 ],
 "metadata": {
  "kernelspec": {
   "display_name": "Python 3 (system-wide)",
   "language": "python",
   "name": "python3"
  },
  "language_info": {
   "codemirror_mode": {
    "name": "ipython",
    "version": 3
   },
   "file_extension": ".py",
   "mimetype": "text/x-python",
   "name": "python",
   "nbconvert_exporter": "python",
   "pygments_lexer": "ipython3",
   "version": "3.8.10"
  }
 },
 "nbformat": 4,
 "nbformat_minor": 4
}
