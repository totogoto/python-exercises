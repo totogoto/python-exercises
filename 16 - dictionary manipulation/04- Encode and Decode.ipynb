{
 "cells": [
  {
   "cell_type": "code",
   "execution_count": 1,
   "metadata": {
    "hideCode": false,
    "hidePrompt": false
   },
   "outputs": [],
   "source": [
    "from worlds.levels import get_robo"
   ]
  },
  {
   "cell_type": "markdown",
   "metadata": {
    "hideCode": false,
    "hidePrompt": false
   },
   "source": [
    "# Encrypt and decrypt\n",
    "\n",
    "Help Otto report the correct messages \n",
    "\n",
    "\n",
    "The first 2 messages give the secret \n",
    "they are followed b 2 messages - one needs to be encrypted (scrambled) and the other needs to be decrypted\n",
    "\n",
    "\n",
    "\n",
    "### What you need to know\n",
    "\n",
    "- The functions `move()` to move.\n",
    "- calling `move()` in front of a wall causes otto to crash into the wall and the program errors out. Please take care of otto 🤗\n",
    "- The function `message_here()` returns True if message in the current cell.\n",
    "- The function `read_message()` returns the message if the message in the current cell.\n",
    "#### Python  function\n",
    "- `dict. get(key[, default])` - Returns the value for key in the dictionary; if not found returns a default value.\n",
    "-  `s.lower()` : Return a copy of the string with all the cased characters converted to lowercase.\n",
    "-  `s.upper()` : Return a copy of the string with all the cased characters converted to uppercase.\n",
    "-  `s.capitalize()`: Return a copy of the string with only its first character capitalized.\n",
    "-  And many more ...  [Goto Docs](https://docs.python.org/3/library/stdtypes.html#string-methods)\n"
   ]
  },
  {
   "cell_type": "code",
   "execution_count": 12,
   "metadata": {},
   "outputs": [
    {
     "name": "stdout",
     "output_type": "stream",
     "text": [
      "\n"
     ]
    }
   ],
   "source": [
    "def encode(secret_dict, msg):\n",
    "    #your code here\n",
    "    e=\"\"\n",
    "    return e\n",
    "\n",
    "#test encode here by calling it with various options!\n",
    "# Eg. the code below should print b a\n",
    "print(encode( {\"a\":\"b\",\"b\":\"a\"}, \"a b\")) "
   ]
  },
  {
   "cell_type": "code",
   "execution_count": 14,
   "metadata": {
    "hideCode": false,
    "hidePrompt": false
   },
   "outputs": [
    {
     "data": {
      "application/vnd.jupyter.widget-view+json": {
       "model_id": "7f17d50cf0d541fdb2e3c5c4bcc7306f",
       "version_major": 2,
       "version_minor": 0
      },
      "text/plain": [
       "Maze()"
      ]
     },
     "metadata": {},
     "output_type": "display_data"
    },
    {
     "name": "stdout",
     "output_type": "stream",
     "text": [
      "abcdefghijklmnopqrstuvwxyz\n",
      "mxpavbrkcgznojequyhsliwfdt\n",
      "------------\n",
      "Flat is better than nested\n",
      "Xvmlscbln ch xvssvy skmj lrnd\n"
     ]
    },
    {
     "data": {
      "text/html": [
       "<text style=color:red>✗ Expected: Bnms ch xvssvy skmj jvhsva</text>"
      ],
      "text/plain": [
       "<IPython.core.display.HTML object>"
      ]
     },
     "metadata": {},
     "output_type": "display_data"
    },
    {
     "data": {
      "text/html": [
       "<text style=color:red>✗ Expected: Beautiful is better than ugly</text>"
      ],
      "text/plain": [
       "<IPython.core.display.HTML object>"
      ]
     },
     "metadata": {},
     "output_type": "display_data"
    }
   ],
   "source": [
    "bot = get_robo(\"encryption\")\n",
    "\n",
    "alphabets=bot.read_message()\n",
    "bot.move()\n",
    "\n",
    "secret=bot.read_message()\n",
    "bot.move()\n",
    "\n",
    "print(alphabets)\n",
    "print(secret)\n",
    "print(\"------------\")\n",
    "plain_text = bot.read_message()\n",
    "bot.move()\n",
    "\n",
    "encrypted_text = bot.read_message()\n",
    "bot.move()\n",
    "\n",
    "print(plain_text)\n",
    "print(encrypted_text)\n",
    "\n",
    "# your code here\n",
    "# scramble the plain text and report it\n",
    "# decode the encrypted and report it\n",
    "# Code and use the encode method above to help you with these\n",
    "\n",
    "\n",
    "bot.check()"
   ]
  },
  {
   "cell_type": "code",
   "execution_count": 3,
   "metadata": {
    "hideCode": false,
    "hideOutput": true,
    "hidePrompt": false
   },
   "outputs": [],
   "source": []
  },
  {
   "cell_type": "code",
   "execution_count": null,
   "metadata": {},
   "outputs": [],
   "source": []
  }
 ],
 "metadata": {
  "hide_code_all_hidden": false,
  "kernelspec": {
   "display_name": "Python 3 (system-wide)",
   "language": "python",
   "name": "python3"
  },
  "language_info": {
   "codemirror_mode": {
    "name": "ipython",
    "version": 3
   },
   "file_extension": ".py",
   "mimetype": "text/x-python",
   "name": "python",
   "nbconvert_exporter": "python",
   "pygments_lexer": "ipython3",
   "version": "3.8.10"
  }
 },
 "nbformat": 4,
 "nbformat_minor": 4
}
