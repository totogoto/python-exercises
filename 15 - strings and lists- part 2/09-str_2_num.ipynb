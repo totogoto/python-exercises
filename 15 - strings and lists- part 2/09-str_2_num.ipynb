{
 "cells": [
  {
   "cell_type": "code",
   "execution_count": 3,
   "metadata": {},
   "outputs": [],
   "source": [
    "from worlds.levels import get_robo"
   ]
  },
  {
   "cell_type": "markdown",
   "metadata": {},
   "source": [
    "# Number Dictionary 2\n",
    " \n",
    "### What you need to know\n",
    "\n",
    "- The functions `move()` to move.\n",
    "- calling `move()` in front of a wall causes otto to crash into the wall and the program errors out. Please take care of otto 🤗\n",
    "\n",
    "- The function `message_here()` returns True if message in the current cell.\n",
    "- The function `read_message()` returns the message if the message in the current cell.\n",
    "\n",
    "#### Python buitin function\n",
    "- `len(s)` - returns the length of the string.\n",
    "- `int(s)` - converts the string into number and returns.\n",
    "\n",
    "#### Python string spliting\n",
    "- `'sep'.join(str)`The `join()` string method returns a string by joining all the elements of an iterable (list, string, tuple), separated by a string separator.\n",
    "\n",
    "- `s.split(sep=None, maxsplit=-1)`: Returns a list of the words in the string, using sep as the delimiter string. If maxsplit is given, at most maxsplit splits are done (thus, the list will have at most maxsplit+1 elements). If maxsplit is not specified or -1, then there is no limit on the number of splits (all possible splits are made).\n",
    "\n"
   ]
  },
  {
   "cell_type": "code",
   "execution_count": 12,
   "metadata": {},
   "outputs": [
    {
     "data": {
      "application/vnd.jupyter.widget-view+json": {
       "model_id": "1c1be02928344d2ea8eedcf5d89daeeb",
       "version_major": 2,
       "version_minor": 0
      },
      "text/plain": [
       "Maze()"
      ]
     },
     "metadata": {},
     "output_type": "display_data"
    },
    {
     "name": "stdout",
     "output_type": "stream",
     "text": [
      "eight + four + seven + five + three + nine\n"
     ]
    },
    {
     "data": {
      "text/html": [
       "<text style=color:blue>💬 Total: 36</text>"
      ],
      "text/plain": [
       "<IPython.core.display.HTML object>"
      ]
     },
     "metadata": {},
     "output_type": "display_data"
    },
    {
     "data": {
      "text/html": [
       "<text style=color:blue>💬 Expected: Total: 36</text>"
      ],
      "text/plain": [
       "<IPython.core.display.HTML object>"
      ]
     },
     "metadata": {},
     "output_type": "display_data"
    }
   ],
   "source": [
    "bot = get_robo(\"str2num\")\n",
    "msg = bot.read_message()\n",
    "print(msg)\n",
    "#Your Code here\n",
    "num_dict = {\"one\": 1, \"two\":2, \"three\":3, \"four\":4, \"five\": 5, \"six\": 6, \"seven\": 7, \"eight\": 8, \"nine\": 9, \"ten\": 10}\n",
    "\n",
    "bot.report(f\"Total: {sum([num_dict[x] for x in msg.split(' ')[0::2]])}\")\n",
    "bot.check()"
   ]
  },
  {
   "cell_type": "code",
   "execution_count": null,
   "metadata": {},
   "outputs": [],
   "source": []
  }
 ],
 "metadata": {
  "kernelspec": {
   "display_name": "Python 3 (system-wide)",
   "language": "python",
   "name": "python3"
  },
  "language_info": {
   "codemirror_mode": {
    "name": "ipython",
    "version": 3
   },
   "file_extension": ".py",
   "mimetype": "text/x-python",
   "name": "python",
   "nbconvert_exporter": "python",
   "pygments_lexer": "ipython3",
   "version": "3.8.10"
  }
 },
 "nbformat": 4,
 "nbformat_minor": 4
}
