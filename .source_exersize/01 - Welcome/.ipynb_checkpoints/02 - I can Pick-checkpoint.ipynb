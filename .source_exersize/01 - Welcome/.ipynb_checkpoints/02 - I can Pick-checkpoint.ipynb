{
 "cells": [
  {
   "cell_type": "code",
   "execution_count": 5,
   "metadata": {},
   "outputs": [],
   "source": [
    "from worlds.levels import get_robo"
   ]
  },
  {
   "cell_type": "markdown",
   "metadata": {},
   "source": [
    "# I can Pick,\n",
    "Otto can move.\n",
    "\n",
    "### What you need to know\n",
    "\n",
    "- The functions `move()` to move.\n",
    "- calling `move()` in front of a wall causes otto to crash into the wall and the program errors out. Please take care of otto 🤗"
   ]
  },
  {
   "cell_type": "code",
   "execution_count": 6,
   "metadata": {},
   "outputs": [
    {
     "data": {
      "application/vnd.jupyter.widget-view+json": {
       "model_id": "31d1ba11977e4ae0b20b10ba375af4f8",
       "version_major": 2,
       "version_minor": 0
      },
      "text/plain": [
       "Maze()"
      ]
     },
     "metadata": {},
     "output_type": "display_data"
    },
    {
     "data": {
      "text/html": [
       "<text style=color:blue>💬 Expected: Final Position: 10,1</text>"
      ],
      "text/plain": [
       "<IPython.core.display.HTML object>"
      ]
     },
     "metadata": {},
     "output_type": "display_data"
    }
   ],
   "source": [
    "bot = get_robo('say_hello')\n",
    "bot.move(9)\n",
    "bot.check()"
   ]
  },
  {
   "cell_type": "code",
   "execution_count": null,
   "metadata": {},
   "outputs": [],
   "source": []
  }
 ],
 "metadata": {
  "kernelspec": {
   "display_name": "Python 3 (system-wide)",
   "language": "python",
   "name": "python3"
  },
  "language_info": {
   "codemirror_mode": {
    "name": "ipython",
    "version": 3
   },
   "file_extension": ".py",
   "mimetype": "text/x-python",
   "name": "python",
   "nbconvert_exporter": "python",
   "pygments_lexer": "ipython3",
   "version": "3.8.10"
  }
 },
 "nbformat": 4,
 "nbformat_minor": 4
}
