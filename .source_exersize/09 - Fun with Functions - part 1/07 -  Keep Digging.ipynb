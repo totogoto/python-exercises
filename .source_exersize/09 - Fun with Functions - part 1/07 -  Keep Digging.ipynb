{
 "cells": [
  {
   "cell_type": "code",
   "execution_count": 4,
   "metadata": {},
   "outputs": [],
   "source": [
    "from worlds.levels import get_robo"
   ]
  },
  {
   "cell_type": "markdown",
   "metadata": {},
   "source": [
    "# JUMP 2\n",
    "Otto does not know the size of the grid and needs to fill in all the stars in the right cells\n",
    "Help Otto with moving all the stars in the triangle pattern!\n",
    "\n",
    "### What you need to know\n",
    "- The functions move(), turn_left() to move and turn otto around\n",
    "- calling move() in front of a wall causes otto to crash into the wall and the program errors out. Please take care of otto 🤗\n",
    "- The function wall_in_front() returns True if Otto is facing a wall, False otherwise\n",
    "- The function wall_on_right() returns True if wall is on the right side of the otto, False otherwise\n",
    "- The function at_goal() return True if otto is on the home goal position , False otherwise."
   ]
  },
  {
   "cell_type": "code",
   "execution_count": 11,
   "metadata": {},
   "outputs": [],
   "source": [
    "def turn_right(bot):\n",
    "    for x in range(3):\n",
    "        bot.turn_left()\n",
    "    \n",
    "def u_turn(bot):\n",
    "    bot.turn_left()\n",
    "    bot.turn_left()\n",
    "\n",
    "#your code here\n",
    "\n",
    "def down(bot):\n",
    "    #turn and go down till you hit a wall\n",
    "    pass\n",
    "\n",
    "def up(bot, steps):\n",
    "    #turn around and go up \n",
    "    pass\n",
    "    \n",
    "def dig(bot):\n",
    "    #go down and go back up\n",
    "    #Hint: How do you know how many steps to go back up?\n",
    "    #Hint2: Make sure you are pointing right to continue the journey\n",
    "    pass"
   ]
  },
  {
   "cell_type": "code",
   "execution_count": 12,
   "metadata": {},
   "outputs": [
    {
     "data": {
      "application/vnd.jupyter.widget-view+json": {
       "model_id": "f0910dfea92041db90a33436f342a8e8",
       "version_major": 2,
       "version_minor": 0
      },
      "text/plain": [
       "Maze()"
      ]
     },
     "metadata": {},
     "output_type": "display_data"
    },
    {
     "data": {
      "text/html": [
       "<text style=color:red>✗ Expected: 3 Flags</text>"
      ],
      "text/plain": [
       "<IPython.core.display.HTML object>"
      ]
     },
     "metadata": {},
     "output_type": "display_data"
    },
    {
     "data": {
      "text/html": [
       "<text style=color:blue>💬 Expected: Final Position: 10,10</text>"
      ],
      "text/plain": [
       "<IPython.core.display.HTML object>"
      ]
     },
     "metadata": {},
     "output_type": "display_data"
    }
   ],
   "source": [
    "#*****************************\n",
    "#  DO NOT CHANGE THIS CELL   *\n",
    "#*****************************\n",
    "\n",
    "bot = get_robo(\"jump_multi\")\n",
    "bot.set_speed(0)\n",
    "\n",
    "while not bot.at_goal():\n",
    "    if not bot.wall_on_right():\n",
    "        dig(bot)\n",
    "        \n",
    "    bot.move()\n",
    "\n",
    "bot.check()"
   ]
  }
 ],
 "metadata": {
  "kernelspec": {
   "display_name": "Python 3 (system-wide)",
   "language": "python",
   "name": "python3"
  },
  "language_info": {
   "codemirror_mode": {
    "name": "ipython",
    "version": 3
   },
   "file_extension": ".py",
   "mimetype": "text/x-python",
   "name": "python",
   "nbconvert_exporter": "python",
   "pygments_lexer": "ipython3",
   "version": "3.8.10"
  }
 },
 "nbformat": 4,
 "nbformat_minor": 4
}
