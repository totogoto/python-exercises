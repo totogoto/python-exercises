{
 "cells": [
  {
   "cell_type": "code",
   "execution_count": 1,
   "metadata": {},
   "outputs": [],
   "source": [
    "from worlds.levels import get_robo"
   ]
  },
  {
   "cell_type": "markdown",
   "metadata": {
    "hideCode": false,
    "hidePrompt": true
   },
   "source": [
    "# Total Sum"
   ]
  },
  {
   "cell_type": "code",
   "execution_count": 2,
   "metadata": {},
   "outputs": [],
   "source": [
    "def create_dictionary(string):\n",
    "    l = string.split(\",\")\n",
    "    my_dictionary = {}\n",
    "    for x in range(len(l)):\n",
    "        k,v = l[x].split(\":\")\n",
    "        my_dictionary[k] = v\n",
    "    return my_dictionary\n",
    "\n",
    "def value_sum(dictionary):\n",
    "    return sum(dictionary.values())"
   ]
  },
  {
   "cell_type": "code",
   "execution_count": 4,
   "metadata": {},
   "outputs": [
    {
     "data": {
      "application/vnd.jupyter.widget-view+json": {
       "model_id": "b5ddd01763754d56b7ecc5d08cf58944",
       "version_major": 2,
       "version_minor": 0
      },
      "text/plain": [
       "Maze()"
      ]
     },
     "metadata": {},
     "output_type": "display_data"
    },
    {
     "name": "stdout",
     "output_type": "stream",
     "text": [
      "{'apple': '9', 'banana': '5', 'strawberry': '7', 'carrot': '6', 'tulip': '4'}\n"
     ]
    },
    {
     "data": {
      "text/html": [
       "<text style=color:red>✗ Expected: Total Sum is: 31</text>"
      ],
      "text/plain": [
       "<IPython.core.display.HTML object>"
      ]
     },
     "metadata": {},
     "output_type": "display_data"
    }
   ],
   "source": [
    "def solve(bot):\n",
    "    msg = bot.read_message()\n",
    "    my_dict = create_dictionary(msg)\n",
    "    print(my_dict)\n",
    "\n",
    "bot =  get_robo('dictionary')\n",
    "solve(bot)\n",
    "bot.check()"
   ]
  },
  {
   "cell_type": "code",
   "execution_count": null,
   "metadata": {},
   "outputs": [],
   "source": []
  }
 ],
 "metadata": {
  "kernelspec": {
   "display_name": "Python 3 (system-wide)",
   "language": "python",
   "name": "python3"
  },
  "language_info": {
   "codemirror_mode": {
    "name": "ipython",
    "version": 3
   },
   "file_extension": ".py",
   "mimetype": "text/x-python",
   "name": "python",
   "nbconvert_exporter": "python",
   "pygments_lexer": "ipython3",
   "version": "3.8.10"
  }
 },
 "nbformat": 4,
 "nbformat_minor": 4
}
