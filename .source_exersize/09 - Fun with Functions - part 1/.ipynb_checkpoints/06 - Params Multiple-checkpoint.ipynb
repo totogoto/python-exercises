{
 "cells": [
  {
   "cell_type": "code",
   "execution_count": 1,
   "metadata": {},
   "outputs": [],
   "source": [
    "from worlds.levels import get_robo"
   ]
  },
  {
   "cell_type": "markdown",
   "metadata": {
    "hideCode": false,
    "hidePrompt": true
   },
   "source": [
    "# Apples, Bananas and Berries!\n",
    "\n",
    "Otto needs to pick up\n",
    "- Apples from Row 2\n",
    "- Bananas from Row 3\n",
    "- Strawberries from Row 4\n",
    "\n",
    "### What you need to know\n",
    "- The functions move(), turn_left() to move and turn otto around\n",
    "- calling move() in front of a wall causes otto to crash into the wall and the program errors out. Please take care of otto 🤗\n",
    "- The function report(message) to report any message. The message needs to be a python string\n",
    "- The function take() will pick up the object in the current cell. Otto needs to pick the correct objects and leave the rest in place\n",
    "- The function object_here() returns the object in the current cell (in this case \"apple\" on cells with apples)\n",
    "- The function wall_in_front() returns True if Otto is facing a wall, False otherwise"
   ]
  },
  {
   "cell_type": "code",
   "execution_count": 6,
   "metadata": {},
   "outputs": [],
   "source": [
    "def turn_right(bot):\n",
    "    for x in range(3):\n",
    "        bot.turn_left()\n",
    "\n",
    "def u_turn(bot):\n",
    "    bot.turn_left()\n",
    "    bot.turn_left()\n",
    "    \n",
    "#your code here        \n",
    "#fix the arguments and code the 2 functions\n",
    "\n",
    "def pick_all_items():\n",
    "    # need to pick all matching items till there are no more\n",
    "    # also need to return the number of steps taken \n",
    "    pass\n",
    "\n",
    "def move_one_row_up():\n",
    "    # move one row up while facing right \n",
    "    # do this by turning left, move  and turning right, \n",
    "    # mind the walls! move one up only if you can\n",
    "    pass"
   ]
  },
  {
   "cell_type": "code",
   "execution_count": 7,
   "metadata": {},
   "outputs": [
    {
     "data": {
      "application/vnd.jupyter.widget-view+json": {
       "model_id": "091847f8ae004e9f8804f8a954ebfc07",
       "version_major": 2,
       "version_minor": 0
      },
      "text/plain": [
       "Maze()"
      ]
     },
     "metadata": {},
     "output_type": "display_data"
    },
    {
     "ename": "TypeError",
     "evalue": "move_one_row_up() takes 0 positional arguments but 1 was given",
     "output_type": "error",
     "traceback": [
      "\u001b[0;31m---------------------------------------------------------------------------\u001b[0m",
      "\u001b[0;31mTypeError\u001b[0m                                 Traceback (most recent call last)",
      "\u001b[0;32m/tmp/ipykernel_1216/1755418644.py\u001b[0m in \u001b[0;36m<module>\u001b[0;34m\u001b[0m\n\u001b[1;32m      8\u001b[0m \u001b[0;34m\u001b[0m\u001b[0m\n\u001b[1;32m      9\u001b[0m \u001b[0;32mfor\u001b[0m \u001b[0mitem\u001b[0m \u001b[0;32min\u001b[0m \u001b[0;34m[\u001b[0m\u001b[0;34m'apple'\u001b[0m\u001b[0;34m,\u001b[0m \u001b[0;34m'banana'\u001b[0m\u001b[0;34m,\u001b[0m \u001b[0;34m'strawberry'\u001b[0m\u001b[0;34m]\u001b[0m\u001b[0;34m:\u001b[0m\u001b[0;34m\u001b[0m\u001b[0;34m\u001b[0m\u001b[0m\n\u001b[0;32m---> 10\u001b[0;31m     \u001b[0mmove_one_row_up\u001b[0m\u001b[0;34m(\u001b[0m\u001b[0mbot\u001b[0m\u001b[0;34m)\u001b[0m\u001b[0;34m\u001b[0m\u001b[0;34m\u001b[0m\u001b[0m\n\u001b[0m\u001b[1;32m     11\u001b[0m     \u001b[0msteps_to_go_back\u001b[0m \u001b[0;34m=\u001b[0m \u001b[0mpick_all_items\u001b[0m\u001b[0;34m(\u001b[0m\u001b[0mbot\u001b[0m\u001b[0;34m,\u001b[0m \u001b[0mitem\u001b[0m\u001b[0;34m)\u001b[0m\u001b[0;34m\u001b[0m\u001b[0;34m\u001b[0m\u001b[0m\n\u001b[1;32m     12\u001b[0m     \u001b[0mu_turn\u001b[0m\u001b[0;34m(\u001b[0m\u001b[0mbot\u001b[0m\u001b[0;34m)\u001b[0m\u001b[0;34m\u001b[0m\u001b[0;34m\u001b[0m\u001b[0m\n",
      "\u001b[0;31mTypeError\u001b[0m: move_one_row_up() takes 0 positional arguments but 1 was given"
     ]
    }
   ],
   "source": [
    "#*****************************\n",
    "#  DO NOT CHANGE THIS CELL   *\n",
    "#*****************************\n",
    "\n",
    "bot =  get_robo('params_multiple')\n",
    "\n",
    "bot.move()\n",
    "\n",
    "for item in ['apple', 'banana', 'strawberry']:\n",
    "    move_one_row_up(bot)\n",
    "    steps_to_go_back = pick_all_items(bot, item)\n",
    "    u_turn(bot)\n",
    "    bot.move(steps_to_go_back)\n",
    "    u_turn(bot)\n",
    "\n",
    "bot.check()"
   ]
  },
  {
   "cell_type": "code",
   "execution_count": null,
   "metadata": {},
   "outputs": [],
   "source": []
  }
 ],
 "metadata": {
  "kernelspec": {
   "display_name": "Python 3 (system-wide)",
   "language": "python",
   "name": "python3"
  },
  "language_info": {
   "codemirror_mode": {
    "name": "ipython",
    "version": 3
   },
   "file_extension": ".py",
   "mimetype": "text/x-python",
   "name": "python",
   "nbconvert_exporter": "python",
   "pygments_lexer": "ipython3",
   "version": "3.8.10"
  }
 },
 "nbformat": 4,
 "nbformat_minor": 4
}
