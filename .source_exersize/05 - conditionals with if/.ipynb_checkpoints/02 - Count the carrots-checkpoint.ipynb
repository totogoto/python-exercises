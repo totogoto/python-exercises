{
 "cells": [
  {
   "cell_type": "code",
   "execution_count": 6,
   "metadata": {},
   "outputs": [],
   "source": [
    "from worlds.levels import get_robo"
   ]
  },
  {
   "cell_type": "markdown",
   "metadata": {},
   "source": [
    "# How many carrots are there in the garden\n",
    "\n",
    "Its harvest time and otto the robot needs to count the number of carrots and report it back to its master\n",
    "\n",
    "Run the code multiple times (shift+enter) on the solve cell and you will observe each time the counts are different\n",
    "\n",
    "otto needs to report back saying \"I counted 4 carrots\" using the `report()` method\n",
    "\n",
    "## What you need to know\n",
    "- The functions `move()`, `turn_left()` to move and turn otto around\n",
    "- calling `move()` in front of a wall causes otto to crash into the wall and the program errors out. Please take care of otto 🤗\t\n",
    "- The function `report(message)` to report any message. The message needs to be a python string \n",
    "- The function `object_here()` returns the object in the current cell (in this case \"carrot\" on cells with carrots)\n",
    "- How to use if statements\n",
    "- use the cell below (uncomment the code) to check usage of the methods needed to help otto"
   ]
  },
  {
   "cell_type": "code",
   "execution_count": 7,
   "metadata": {
    "scrolled": true
   },
   "outputs": [],
   "source": [
    "#help(Robot.move)\n",
    "#help(Robot.turn_left)\n",
    "#help(Robot.object_here)\n",
    "#help(Robot.report)"
   ]
  },
  {
   "cell_type": "code",
   "execution_count": 8,
   "metadata": {},
   "outputs": [
    {
     "data": {
      "application/vnd.jupyter.widget-view+json": {
       "model_id": "d54eb98196874b2596e6188b195df206",
       "version_major": 2,
       "version_minor": 0
      },
      "text/plain": [
       "Maze()"
      ]
     },
     "metadata": {},
     "output_type": "display_data"
    },
    {
     "data": {
      "text/html": [
       "<text style=color:blue>💬 preparing to get back home</text>"
      ],
      "text/plain": [
       "<IPython.core.display.HTML object>"
      ]
     },
     "metadata": {},
     "output_type": "display_data"
    },
    {
     "data": {
      "text/html": [
       "<text style=color:red>✗ Expected: Final Position: 10,1</text>"
      ],
      "text/plain": [
       "<IPython.core.display.HTML object>"
      ]
     },
     "metadata": {},
     "output_type": "display_data"
    },
    {
     "data": {
      "text/html": [
       "<text style=color:red>✗ Expected: I counted 5 carrots</text>"
      ],
      "text/plain": [
       "<IPython.core.display.HTML object>"
      ]
     },
     "metadata": {},
     "output_type": "display_data"
    }
   ],
   "source": [
    "bot = get_robo(\"count_carrots\")\n",
    "    # your code here\n",
    "    # see the output of report below this cell\n",
    "bot.report(\"preparing to get back home\")\n",
    "  \n",
    "bot.check()"
   ]
  },
  {
   "cell_type": "code",
   "execution_count": null,
   "metadata": {},
   "outputs": [],
   "source": []
  },
  {
   "cell_type": "code",
   "execution_count": null,
   "metadata": {},
   "outputs": [],
   "source": []
  }
 ],
 "metadata": {
  "kernelspec": {
   "display_name": "Python 3",
   "language": "python",
   "name": "python3"
  },
  "language_info": {
   "codemirror_mode": {
    "name": "ipython",
    "version": 3
   },
   "file_extension": ".py",
   "mimetype": "text/x-python",
   "name": "python",
   "nbconvert_exporter": "python",
   "pygments_lexer": "ipython3",
   "version": "3.8.8"
  }
 },
 "nbformat": 4,
 "nbformat_minor": 4
}
