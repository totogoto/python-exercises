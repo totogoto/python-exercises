{
 "cells": [
  {
   "cell_type": "code",
   "execution_count": 3,
   "metadata": {
    "collapsed": false,
    "jupyter": {
     "outputs_hidden": false
    }
   },
   "outputs": [],
   "source": [
    "from worlds.levels import get_robo"
   ]
  },
  {
   "cell_type": "markdown",
   "metadata": {
    "hideCode": true,
    "hideOutput": true
   },
   "source": [
    "# Wall Street\n",
    "\n",
    "Help otto the robot, find his way back home. \n",
    "\n",
    "Run the code multiple times (shift+enter) on the solve cell and you will observe that the walls turn at different points on every run.\n",
    "<br>\n",
    "The house is always 10 blocks away from otto\n",
    "\n",
    "\n",
    "\n",
    "## What you need to know\n",
    "- The functions `move()`, `turn_left()` to move and turn otto around\n",
    "- calling `move()` in front of a wall causes otto to crash into the wall and the program errors out. Please take care of otto 🤗\t\n",
    "- The function `wall_in_front()` to check if there is a wall in front of otto\n",
    "- How to use if statements.\n",
    "- use the cell below (uncomment the code) to check usage of the methods needed to help otto\n"
   ]
  },
  {
   "cell_type": "code",
   "execution_count": 4,
   "metadata": {
    "collapsed": false,
    "jupyter": {
     "outputs_hidden": false
    }
   },
   "outputs": [],
   "source": [
    "# help(Robot.wall_in_front)\n",
    "# help(Robot.move)\n",
    "# help(Robot.turn_left)"
   ]
  },
  {
   "cell_type": "code",
   "execution_count": 10,
   "metadata": {
    "collapsed": false,
    "jupyter": {
     "outputs_hidden": false
    }
   },
   "outputs": [
    {
     "data": {
      "application/vnd.jupyter.widget-view+json": {
       "model_id": "b79de70e62644562a7a73b154de20b73",
       "version_major": 2,
       "version_minor": 0
      },
      "text/plain": [
       "Maze()"
      ]
     },
     "metadata": {},
     "output_type": "display_data"
    },
    {
     "data": {
      "text/html": [
       "<text style=color:blue>💬 Expected: Final Position: 10,1</text>"
      ],
      "text/plain": [
       "<IPython.core.display.HTML object>"
      ]
     },
     "metadata": {},
     "output_type": "display_data"
    }
   ],
   "source": [
    "bot = get_robo(\"wall_street\")\n",
    "# your code here\n",
    "\n",
    "bot.turn_left()\n",
    "bot.move(1)\n",
    "for i in range(3):\n",
    "    bot.turn_left()\n",
    "    #Travel Distance\n",
    "travel_distance = 0\n",
    "for i in range(10):\n",
    "    if bot.wall_in_front() == True: \n",
    "        #Turning right\n",
    "        for i in range(3):\n",
    "            bot.turn_left()\n",
    "        bot.move(1)\n",
    "        bot.turn_left()\n",
    "    else:\n",
    "        bot.move(1)\n",
    "        travel_distance += 1\n",
    "\n",
    "bot.check()"
   ]
  },
  {
   "cell_type": "code",
   "execution_count": null,
   "metadata": {
    "collapsed": false,
    "jupyter": {
     "outputs_hidden": false
    }
   },
   "outputs": [],
   "source": []
  }
 ],
 "metadata": {
  "kernelspec": {
   "display_name": "Python 3",
   "language": "python",
   "name": "python3"
  },
  "language_info": {
   "codemirror_mode": {
    "name": "ipython",
    "version": 3
   },
   "file_extension": ".py",
   "mimetype": "text/x-python",
   "name": "python",
   "nbconvert_exporter": "python",
   "pygments_lexer": "ipython3",
   "version": "3.8.8"
  }
 },
 "nbformat": 4,
 "nbformat_minor": 4
}
