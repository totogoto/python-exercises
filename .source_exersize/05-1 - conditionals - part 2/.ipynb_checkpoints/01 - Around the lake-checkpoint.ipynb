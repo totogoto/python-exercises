{
 "cells": [
  {
   "cell_type": "code",
   "execution_count": 1,
   "metadata": {},
   "outputs": [],
   "source": [
    "from worlds.levels import get_robo"
   ]
  },
  {
   "cell_type": "markdown",
   "metadata": {},
   "source": [
    "# Around the lake\n",
    "Otto loves going for walks, especially when it is around a lake. The lakes in Otto’s neighborhood are all different sizes of rectangles, so Otto does not know how many steps it will take to get back to the start of walk.  Otto knows it’s done walking when it reaches the carrot.\n",
    "\n",
    "Use a while statement (looking for the carrot object) and an `if/else` to have Otto complete his walking adventure.\n",
    "\n",
    "Note: Otto cannot use a for in range() statement, since it has no idea of the dimensions of the lake it is walking around.\n",
    "\n",
    "### What you need to know\n",
    "- The functions `move()`, `turn_left()` to move and turn otto around\n",
    "- The function `wall_in_front()` to check if there is a wall in front of otto\n",
    "- The function `take()` will pick up the object in the current cell. Otto needs to pick the correct objects and leave the rest in place\n",
    "- The function `object_here()` returns the object in the current cell (in this case \"carrot\" on cells with carrots)"
   ]
  },
  {
   "cell_type": "code",
   "execution_count": 2,
   "metadata": {},
   "outputs": [
    {
     "data": {
      "application/vnd.jupyter.widget-view+json": {
       "model_id": "00defd6d76bd4edfb6dd9e6367dda3d4",
       "version_major": 2,
       "version_minor": 0
      },
      "text/plain": [
       "Maze()"
      ]
     },
     "metadata": {},
     "output_type": "display_data"
    },
    {
     "data": {
      "text/html": [
       "<text style=color:blue>💬 Code Started.</text>"
      ],
      "text/plain": [
       "<IPython.core.display.HTML object>"
      ]
     },
     "metadata": {},
     "output_type": "display_data"
    }
   ],
   "source": [
    "bot = get_robo(\"around_the_lake\")\n",
    "bot.report(\"Code Started.\")\n",
    "#CODE_HERE\n",
    "\n",
    "for _ in range(29):\n",
    "    bot.move()\n",
    "    if bot.wall_in_front():\n",
    "        bot.turn_left()\n",
    "    \n",
    "    if bot.object_here():\n",
    "        bot.take()\n",
    "\n",
    "bot.check()"
   ]
  },
  {
   "cell_type": "code",
   "execution_count": null,
   "metadata": {},
   "outputs": [],
   "source": []
  }
 ],
 "metadata": {
  "kernelspec": {
   "display_name": "Python 3 (system-wide)",
   "language": "python",
   "name": "python3"
  },
  "language_info": {
   "codemirror_mode": {
    "name": "ipython",
    "version": 3
   },
   "file_extension": ".py",
   "mimetype": "text/x-python",
   "name": "python",
   "nbconvert_exporter": "python",
   "pygments_lexer": "ipython3",
   "version": "3.8.10"
  }
 },
 "nbformat": 4,
 "nbformat_minor": 4
}
