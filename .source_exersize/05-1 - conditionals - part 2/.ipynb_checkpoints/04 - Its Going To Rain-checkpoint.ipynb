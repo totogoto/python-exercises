{
 "cells": [
  {
   "cell_type": "code",
   "execution_count": 1,
   "metadata": {},
   "outputs": [],
   "source": [
    "from worlds.levels import get_robo"
   ]
  },
  {
   "cell_type": "markdown",
   "metadata": {},
   "source": [
    "# It's Going to Rain\n",
    "\n",
    "It's raining hard. Water is going to come in through the open windows (represented by dotted walls) unless otto closes them.\n",
    "Have Otto move around the room and close the windows by using the `build_wall()` function.\n",
    "\n",
    "### What you need to know\n",
    " - The functions `move()`, `turn_left()`, and `build_wall()`.\n",
    " - The conditions `right_is_clear()` or `wall_on_right()` and `at_goal()`\n",
    " - How to use a while loop and an if statement.\n"
   ]
  },
  {
   "cell_type": "code",
   "execution_count": 19,
   "metadata": {},
   "outputs": [
    {
     "data": {
      "application/vnd.jupyter.widget-view+json": {
       "model_id": "7b25acb79f804b15a1a3f20f2edeefad",
       "version_major": 2,
       "version_minor": 0
      },
      "text/plain": [
       "Maze()"
      ]
     },
     "metadata": {},
     "output_type": "display_data"
    },
    {
     "data": {
      "text/html": [
       "<text style=color:blue>💬 Code Started.</text>"
      ],
      "text/plain": [
       "<IPython.core.display.HTML object>"
      ]
     },
     "metadata": {},
     "output_type": "display_data"
    },
    {
     "data": {
      "text/html": [
       "<text style=color:blue>💬 Expected: Final Position: 4,5</text>"
      ],
      "text/plain": [
       "<IPython.core.display.HTML object>"
      ]
     },
     "metadata": {},
     "output_type": "display_data"
    }
   ],
   "source": [
    "def turn_right(bot):\n",
    "    bot.turn_left()\n",
    "    bot.turn_left()\n",
    "    bot.turn_left()\n",
    "\n",
    "bot = get_robo(\"rain\")\n",
    "\n",
    "bot.report(\"Code Started.\")\n",
    "bot.move()\n",
    "bot.turn_left()\n",
    "bot.turn_left()\n",
    "bot.turn_left()\n",
    "for x in range(20):\n",
    "    bot.move()\n",
    "    if bot.wall_in_front():\n",
    "        bot.turn_left()\n",
    "    if bot.right_is_clear():\n",
    "        turn_right(bot)\n",
    "        bot.build_wall()\n",
    "        bot.turn_left()\n",
    "            \n",
    "bot.check()"
   ]
  },
  {
   "cell_type": "code",
   "execution_count": null,
   "metadata": {},
   "outputs": [],
   "source": []
  }
 ],
 "metadata": {
  "kernelspec": {
   "display_name": "Python 3 (system-wide)",
   "language": "python",
   "name": "python3"
  },
  "language_info": {
   "codemirror_mode": {
    "name": "ipython",
    "version": 3
   },
   "file_extension": ".py",
   "mimetype": "text/x-python",
   "name": "python",
   "nbconvert_exporter": "python",
   "pygments_lexer": "ipython3",
   "version": "3.8.10"
  }
 },
 "nbformat": 4,
 "nbformat_minor": 4
}
