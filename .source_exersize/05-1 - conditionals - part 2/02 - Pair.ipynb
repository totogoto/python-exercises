{
 "cells": [
  {
   "cell_type": "code",
   "execution_count": 11,
   "metadata": {},
   "outputs": [],
   "source": [
    "from worlds.levels import get_robo"
   ]
  },
  {
   "cell_type": "markdown",
   "metadata": {},
   "source": [
    "# Pair\n",
    "\n",
    "Scan the first line and pick the right object that pairs up based on the rules below\n",
    "- apple + banana = orange\n",
    "- apple + leaf = tulip\n",
    "- star + seed = tulip\n",
    "- star + daisy = orange\n",
    "- leaf + daisy = dandelion\n",
    "\n",
    "You need to place the correct object (that you picked) using the `bot.put()` method\n",
    "in the grayed out cell\n",
    "\n",
    "Note: Each time you run you will get different pairs\n",
    "\n",
    "### What you need to know\n",
    "- The functions `move()`, `turn_left()` to move and turn otto around\n",
    "- The function `take()` will pick up the object in the current cell. Otto needs to pick the correct objects and leave the rest in place\n",
    "\n",
    "- The function `put()` will pick up the object in the current cell.\n",
    "- The function `object_here()` returns the object in the current cell (in this case \"carrot\" on cells with carrots)"
   ]
  },
  {
   "cell_type": "code",
   "execution_count": 12,
   "metadata": {},
   "outputs": [
    {
     "data": {
      "application/vnd.jupyter.widget-view+json": {
       "model_id": "f0eaa53f71d846698be723f303d5b4ee",
       "version_major": 2,
       "version_minor": 0
      },
      "text/plain": [
       "Maze()"
      ]
     },
     "metadata": {},
     "output_type": "display_data"
    },
    {
     "data": {
      "text/html": [
       "<text style=color:blue>💬 Code Started.</text>"
      ],
      "text/plain": [
       "<IPython.core.display.HTML object>"
      ]
     },
     "metadata": {},
     "output_type": "display_data"
    },
    {
     "data": {
      "text/html": [
       "<text style=color:red>✗ Expected: Drop object tulip at: 3,2</text>"
      ],
      "text/plain": [
       "<IPython.core.display.HTML object>"
      ]
     },
     "metadata": {},
     "output_type": "display_data"
    }
   ],
   "source": [
    "bot = get_robo(\"pair\")\n",
    "bot.report(\"Code Started.\")\n",
    "#CODE_HERE\n",
    "    \n",
    "\n",
    "bot.check()"
   ]
  },
  {
   "cell_type": "code",
   "execution_count": null,
   "metadata": {},
   "outputs": [],
   "source": []
  }
 ],
 "metadata": {
  "kernelspec": {
   "display_name": "Python 3 (system-wide)",
   "language": "python",
   "name": "python3"
  },
  "language_info": {
   "codemirror_mode": {
    "name": "ipython",
    "version": 3
   },
   "file_extension": ".py",
   "mimetype": "text/x-python",
   "name": "python",
   "nbconvert_exporter": "python",
   "pygments_lexer": "ipython3",
   "version": "3.8.10"
  }
 },
 "nbformat": 4,
 "nbformat_minor": 4
}
