{
 "cells": [
  {
   "cell_type": "code",
   "execution_count": 1,
   "metadata": {},
   "outputs": [],
   "source": [
    "from worlds.levels import get_robo"
   ]
  },
  {
   "cell_type": "markdown",
   "metadata": {},
   "source": [
    "# Hello While\n",
    "Help Otto to collect all the fruits until it reaches home.\n",
    "\n",
    "### What you need to know\n",
    "\n",
    "- The functions `move()` to move.\n",
    "- calling `move()` in front of a wall causes otto to crash into the wall and the program errors out. Please take care of otto 🤗\n",
    "- The function `take()` will pick up the object in the current cell. Otto needs to pick the correct objects and leave the rest in place\n",
    "- The function `object_here()` returns the object in the current cell (in this case \"banana\" on cells with banana)\n",
    "- The function `wall_in_front()` returns True, if there is a wall in front of otto\n",
    "- The function `at_goal()` returns True, if house is on the current cell.\n",
    "- How to use while loops."
   ]
  },
  {
   "cell_type": "code",
   "execution_count": 2,
   "metadata": {},
   "outputs": [
    {
     "data": {
      "application/vnd.jupyter.widget-view+json": {
       "model_id": "dc130f20a40b4f458c70ac79dd126693",
       "version_major": 2,
       "version_minor": 0
      },
      "text/plain": [
       "Maze()"
      ]
     },
     "metadata": {},
     "output_type": "display_data"
    },
    {
     "data": {
      "text/html": [
       "<text style=color:blue>💬 Code Started.</text>"
      ],
      "text/plain": [
       "<IPython.core.display.HTML object>"
      ]
     },
     "metadata": {},
     "output_type": "display_data"
    },
    {
     "data": {
      "text/html": [
       "<text style=color:red>✗ Expected: Final Position: 6,1</text>"
      ],
      "text/plain": [
       "<IPython.core.display.HTML object>"
      ]
     },
     "metadata": {},
     "output_type": "display_data"
    },
    {
     "data": {
      "text/html": [
       "<text style=color:red>✗ Expected: Picked 4 apples</text>"
      ],
      "text/plain": [
       "<IPython.core.display.HTML object>"
      ]
     },
     "metadata": {},
     "output_type": "display_data"
    }
   ],
   "source": [
    "bot = get_robo(\"hello_while\")\n",
    "bot.report(\"Code Started.\")\n",
    "#CODE_HERE\n",
    "bot.check()"
   ]
  },
  {
   "cell_type": "code",
   "execution_count": null,
   "metadata": {},
   "outputs": [],
   "source": []
  }
 ],
 "metadata": {
  "kernelspec": {
   "display_name": "Python 3",
   "language": "python",
   "name": "python3"
  },
  "language_info": {
   "codemirror_mode": {
    "name": "ipython",
    "version": 3
   },
   "file_extension": ".py",
   "mimetype": "text/x-python",
   "name": "python",
   "nbconvert_exporter": "python",
   "pygments_lexer": "ipython3",
   "version": "3.8.8"
  }
 },
 "nbformat": 4,
 "nbformat_minor": 4
}
