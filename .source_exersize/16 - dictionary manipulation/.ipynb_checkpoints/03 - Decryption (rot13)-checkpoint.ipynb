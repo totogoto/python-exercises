{
 "cells": [
  {
   "cell_type": "code",
   "execution_count": 1,
   "metadata": {},
   "outputs": [],
   "source": [
    "from worlds.levels import get_robo"
   ]
  },
  {
   "cell_type": "markdown",
   "metadata": {},
   "source": [
    "# Decryption\n",
    "\n",
    "Master has left scrambled messages for Otto \n",
    "\n",
    "Help Otto read the original message by unscrambling the letters\n",
    "\n",
    "The cell below contains a dict called `secret` that helps with the decryption<br>\n",
    "Eg. All `b`s should be replaced by `p` (the key and the value in the secret)\n",
    "\n",
    "__Important__ : Mind the spaces and punctuations\n",
    "\n",
    "### What you need to know\n",
    "\n",
    "- The functions `move()` to move.\n",
    "- calling `move()` in front of a wall causes otto to crash into the wall and the program errors out. Please take care of otto 🤗\n",
    "- The function `message_here()` returns True if message in the current cell.\n",
    "- The function `read_message()` returns the message if the message in the current cell.\n",
    "#### Python  function\n",
    "- `dict. get(key[, default])` - Returns the value for key in the dictionary; if not found returns a default value.\n",
    "-  `s.islower()` : True if all characters of the string are in lowercase.\n",
    "-  `s.isupper()` : True if all characters of the string are in uppercase.\n",
    "-  `s.lower()` : Return a copy of the string with all the cased characters converted to lowercase.\n",
    "-  `s.upper()` : Return a copy of the string with all the cased characters converted to uppercase.\n",
    "-  `s.capitalize()`: Return a copy of the string with only its first character capitalized.\n",
    "-  And many more ...  [Goto Docs](https://docs.python.org/3/library/stdtypes.html#string-methods)\n"
   ]
  },
  {
   "cell_type": "code",
   "execution_count": 2,
   "metadata": {},
   "outputs": [
    {
     "name": "stdout",
     "output_type": "stream",
     "text": [
      "SECRET TABLE\n",
      "============\n",
      "FIND    | n | o | p | q | r | s | t | u | v | w | x | y | z | a | b | c | d | e | f | g | h | i | j | k | l | m\n",
      "REPLACE | a | b | c | d | e | f | g | h | i | j | k | l | m | n | o | p | q | r | s | t | u | v | w | x | y | z\n"
     ]
    }
   ],
   "source": [
    "secret = {'n': 'a', 'o': 'b', 'p': 'c', 'q': 'd', 'r': 'e', \n",
    "              's': 'f', 't': 'g', 'u': 'h', 'v': 'i', 'w': 'j',\n",
    "              'x': 'k', 'y': 'l', 'z': 'm', 'a': 'n', 'b': 'o', 'c': 'p', \n",
    "              'd': 'q', 'e': 'r', 'f': 's', 'g': 't', 'h': 'u', \n",
    "              'i': 'v', 'j': 'w', 'k': 'x', 'l': 'y', 'm': 'z'}\n",
    "\n",
    "print(f'SECRET TABLE')\n",
    "print(f'============')\n",
    "print(f'FIND    | {\" | \".join(secret.keys())}')\n",
    "print(f'REPLACE | {\" | \".join(secret.values())}')\n"
   ]
  },
  {
   "cell_type": "code",
   "execution_count": 4,
   "metadata": {
    "scrolled": true
   },
   "outputs": [
    {
     "data": {
      "application/vnd.jupyter.widget-view+json": {
       "model_id": "cbd49a2b802e402a8997f92a92c029f3",
       "version_major": 2,
       "version_minor": 0
      },
      "text/plain": [
       "Maze()"
      ]
     },
     "metadata": {},
     "output_type": "display_data"
    },
    {
     "name": "stdout",
     "output_type": "stream",
     "text": [
      "Arire yrg gur srne bs fgevxvat bhg xrrc lbh sebz cynlvat gur tnzr.\n"
     ]
    },
    {
     "data": {
      "text/html": [
       "<text style=color:red>✗ Expected: Never let the fear of striking out keep you from playing the game.</text>"
      ],
      "text/plain": [
       "<IPython.core.display.HTML object>"
      ]
     },
     "metadata": {},
     "output_type": "display_data"
    }
   ],
   "source": [
    "bot = get_robo(\"decryption\")\n",
    "#your code here\n",
    "message = bot.read_message()\n",
    "print(message)\n",
    "\n",
    "\n",
    "\n",
    "#check the solution\n",
    "bot.check()"
   ]
  },
  {
   "cell_type": "code",
   "execution_count": null,
   "metadata": {},
   "outputs": [],
   "source": []
  }
 ],
 "metadata": {
  "kernelspec": {
   "display_name": "Python 3 (system-wide)",
   "language": "python",
   "name": "python3"
  },
  "language_info": {
   "codemirror_mode": {
    "name": "ipython",
    "version": 3
   },
   "file_extension": ".py",
   "mimetype": "text/x-python",
   "name": "python",
   "nbconvert_exporter": "python",
   "pygments_lexer": "ipython3",
   "version": "3.8.10"
  }
 },
 "nbformat": 4,
 "nbformat_minor": 4
}
