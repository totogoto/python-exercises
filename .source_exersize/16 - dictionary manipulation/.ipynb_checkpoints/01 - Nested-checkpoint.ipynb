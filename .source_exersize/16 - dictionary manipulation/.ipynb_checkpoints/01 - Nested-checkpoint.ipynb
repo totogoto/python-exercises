{
 "cells": [
  {
   "cell_type": "code",
   "execution_count": 1,
   "metadata": {},
   "outputs": [],
   "source": [
    "from worlds.levels import get_robo"
   ]
  },
  {
   "cell_type": "markdown",
   "metadata": {},
   "source": [
    "# Nested\n",
    "\n",
    "### What you need to know\n",
    "\n",
    "- The functions `move()` to move.\n",
    "- calling `move()` in front of a wall causes otto to crash into the wall and the program errors out. Please take care of otto 🤗\n",
    "- The function `message_here()` returns True if message in the current cell.\n",
    "- The function `read_message()` returns the message if the message in the current cell.\n",
    "#### Python  function\n",
    "- `dict. update([mapping])` - Adds key:value elements to the dictionary.\n",
    "\n",
    "\n",
    "- **mapping**\n",
    "\n",
    "    Required. Either another dictionary object or an iterable of key:value pairs (iterables of length two). If keyword arguments are specified, the dictionary is then updated with those key:value pairs.\n"
   ]
  },
  {
   "cell_type": "code",
   "execution_count": 3,
   "metadata": {},
   "outputs": [
    {
     "data": {
      "application/vnd.jupyter.widget-view+json": {
       "model_id": "7809d4e91f8d4719b8c05282140fc80e",
       "version_major": 2,
       "version_minor": 0
      },
      "text/plain": [
       "Maze()"
      ]
     },
     "metadata": {},
     "output_type": "display_data"
    },
    {
     "data": {
      "text/html": [
       "<text style=color:blue>💬 {'carrot': {'carbs': 9.7, 'calories': 39, 'fiber': 0.3}, 'apple': {'carbs': 2.3, 'calories': 91, 'fiber': 0.2}, 'banana': {'carbs': 2.3, 'calories': 82, 'fiber': 0.2}, 'strawberry': {'carbs': 7.1, 'calories': 40, 'fiber': 0.1}}</text>"
      ],
      "text/plain": [
       "<IPython.core.display.HTML object>"
      ]
     },
     "metadata": {},
     "output_type": "display_data"
    },
    {
     "data": {
      "text/html": [
       "<text style=color:blue>💬 Expected: {'carrot': {'carbs': 9.7, 'calories': 39, 'fiber': 0.3}, 'apple': {'carbs': 2.3, 'calories': 91, 'fiber': 0.2}, 'banana': {'carbs': 2.3, 'calories': 82, 'fiber': 0.2}, 'strawberry': {'carbs': 7.1, 'calories': 40, 'fiber': 0.1}}</text>"
      ],
      "text/plain": [
       "<IPython.core.display.HTML object>"
      ]
     },
     "metadata": {},
     "output_type": "display_data"
    }
   ],
   "source": [
    "bot = get_robo(\"nested\")\n",
    "my_dictionary = {}\n",
    "for x in range(4):\n",
    "    bot.move()\n",
    "    my_dictionary.update(bot.read_message())\n",
    "bot.report(my_dictionary)\n",
    "bot.check()"
   ]
  },
  {
   "cell_type": "code",
   "execution_count": null,
   "metadata": {},
   "outputs": [],
   "source": []
  }
 ],
 "metadata": {
  "kernelspec": {
   "display_name": "Python 3 (system-wide)",
   "language": "python",
   "name": "python3"
  },
  "language_info": {
   "codemirror_mode": {
    "name": "ipython",
    "version": 3
   },
   "file_extension": ".py",
   "mimetype": "text/x-python",
   "name": "python",
   "nbconvert_exporter": "python",
   "pygments_lexer": "ipython3",
   "version": "3.8.10"
  }
 },
 "nbformat": 4,
 "nbformat_minor": 4
}
