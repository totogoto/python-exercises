{
 "cells": [
  {
   "cell_type": "code",
   "execution_count": 6,
   "metadata": {},
   "outputs": [],
   "source": [
    "from worlds.levels import get_robo"
   ]
  },
  {
   "cell_type": "markdown",
   "metadata": {},
   "source": [
    "# Decryption\n",
    "\n",
    "Help Otto to find proper message using given dictionary\n",
    "### What you need to know\n",
    "\n",
    "- The functions `move()` to move.\n",
    "- calling `move()` in front of a wall causes otto to crash into the wall and the program errors out. Please take care of otto 🤗\n",
    "- The function `message_here()` returns True if message in the current cell.\n",
    "- The function `read_message()` returns the message if the message in the current cell.\n",
    "#### Python  function\n",
    "- `dict. get(key[, default])` - Returns the value for key in the dictionary; if not found returns a default value.\n",
    "-  `s.lower()` : Return a copy of the string with all the cased characters converted to lowercase.\n",
    "-  `s.upper()` : Return a copy of the string with all the cased characters converted to uppercase.\n",
    "-  `s.capitalize()`: Return a copy of the string with only its first character capitalized.\n",
    "-  And many more ...  [Goto Docs](https://docs.python.org/3/library/stdtypes.html#string-methods)\n"
   ]
  },
  {
   "cell_type": "code",
   "execution_count": 9,
   "metadata": {
    "scrolled": true
   },
   "outputs": [
    {
     "data": {
      "application/vnd.jupyter.widget-view+json": {
       "model_id": "59df6bef51874a8e8f6f982eecdc81a4",
       "version_major": 2,
       "version_minor": 0
      },
      "text/plain": [
       "Maze()"
      ]
     },
     "metadata": {},
     "output_type": "display_data"
    },
    {
     "data": {
      "text/html": [
       "<text style=color:blue>💬 Tell me and I forget. Teach me and I remember. Involve me and I learn.</text>"
      ],
      "text/plain": [
       "<IPython.core.display.HTML object>"
      ]
     },
     "metadata": {},
     "output_type": "display_data"
    },
    {
     "data": {
      "text/html": [
       "<text style=color:blue>💬 Expected: Tell me and I forget. Teach me and I remember. Involve me and I learn.</text>"
      ],
      "text/plain": [
       "<IPython.core.display.HTML object>"
      ]
     },
     "metadata": {},
     "output_type": "display_data"
    }
   ],
   "source": [
    "bot = get_robo(\"decryption\")\n",
    "keys = bot.read_message()\n",
    "\n",
    "dictionary = {'n': 'a', 'o': 'b', 'p': 'c', 'q': 'd', 'r': 'e', \n",
    "              's': 'f', 't': 'g', 'u': 'h', 'v': 'i', 'w': 'j',\n",
    "              'x': 'k', 'y': 'l', 'z': 'm', 'a': 'n', 'b': 'o', 'c': 'p', \n",
    "              'd': 'q', 'e': 'r', 'f': 's', 'g': 't', 'h': 'u', \n",
    "              'i': 'v', 'j': 'w', 'k': 'x', 'l': 'y', 'm': 'z'}\n",
    "\n",
    "\n",
    "\n",
    "enc = bot.read_message()\n",
    "def rot(xy):\n",
    "    rot13 = ''\n",
    "    for c in xy:\n",
    "        if c.islower():\n",
    "            rot13 += dictionary.get(c, c)\n",
    "        if c.isupper():\n",
    "            c = c.lower()\n",
    "            rot13 += dictionary.get(c, c).capitalize()\n",
    "        if c not in dictionary:\n",
    "            rot13 += c  \n",
    "    return rot13\n",
    "\n",
    "bot.report(rot(enc))\n",
    "bot.check()"
   ]
  },
  {
   "cell_type": "code",
   "execution_count": null,
   "metadata": {},
   "outputs": [],
   "source": []
  }
 ],
 "metadata": {
  "kernelspec": {
   "display_name": "Python 3 (system-wide)",
   "language": "python",
   "name": "python3"
  },
  "language_info": {
   "codemirror_mode": {
    "name": "ipython",
    "version": 3
   },
   "file_extension": ".py",
   "mimetype": "text/x-python",
   "name": "python",
   "nbconvert_exporter": "python",
   "pygments_lexer": "ipython3",
   "version": "3.8.10"
  }
 },
 "nbformat": 4,
 "nbformat_minor": 4
}
