{
 "cells": [
  {
   "cell_type": "code",
   "execution_count": 1,
   "metadata": {},
   "outputs": [],
   "source": [
    "from worlds.levels import get_robo"
   ]
  },
  {
   "cell_type": "markdown",
   "metadata": {},
   "source": [
    "# Nested Keys\n",
    "\n",
    "### What you need to know\n",
    "\n",
    "- The functions `move()` to move.\n",
    "- calling `move()` in front of a wall causes otto to crash into the wall and the program errors out. Please take care of otto 🤗\n",
    "- The function `message_here()` returns True if message in the current cell.\n",
    "- The function `read_message()` returns the message if the message in the current cell.\n",
    "#### Python  function\n",
    "- `dict. get(key[, default])` - Returns the value for key in the dictionary; if not found returns a default value.\n",
    "\n",
    "- `s.split(sep=None, maxsplit=-1)`: Returns a list of the words in the string, using sep as the delimiter string. If maxsplit is given, at most maxsplit splits are done (thus, the list will have at most maxsplit+1 elements). If maxsplit is not specified or -1, then there is no limit on the number of splits (all possible splits are made).\n"
   ]
  },
  {
   "cell_type": "code",
   "execution_count": 2,
   "metadata": {
    "scrolled": true
   },
   "outputs": [
    {
     "data": {
      "application/vnd.jupyter.widget-view+json": {
       "model_id": "f9196d81b7ed4998a02e5785a9a1820d",
       "version_major": 2,
       "version_minor": 0
      },
      "text/plain": [
       "Maze()"
      ]
     },
     "metadata": {},
     "output_type": "display_data"
    },
    {
     "data": {
      "text/html": [
       "<text style=color:blue>💬 Expected: Pick object carrot at: 3,2</text>"
      ],
      "text/plain": [
       "<IPython.core.display.HTML object>"
      ]
     },
     "metadata": {},
     "output_type": "display_data"
    },
    {
     "data": {
      "text/html": [
       "<text style=color:blue>💬 Expected: Pick object daisy at: 6,2</text>"
      ],
      "text/plain": [
       "<IPython.core.display.HTML object>"
      ]
     },
     "metadata": {},
     "output_type": "display_data"
    }
   ],
   "source": [
    "my_dict = {\n",
    "    'fruits': {\n",
    "        'red': {\n",
    "            'round': 'apple', \n",
    "            'small': 'strawberry', \n",
    "            'long': 'carrot'},\n",
    "        'yellow': 'banana'\n",
    "    },\n",
    "    'flowers': {\n",
    "        '1': 'daisy',\n",
    "        '2': 'tulip'\n",
    "    }\n",
    "}\n",
    "    \n",
    "def nested_get(dic, key):\n",
    "    k = key.split('.')\n",
    "    for x in k:\n",
    "        if dic is not None:\n",
    "            dic = dic.get(x)\n",
    "    return dic\n",
    "\n",
    "bot = get_robo(\"nested_keys\")\n",
    "bot.move()\n",
    "to_pick = []\n",
    "while bot.message_here():\n",
    "    key = bot.read_message()\n",
    "    to_pick.append(nested_get(my_dict, key))\n",
    "    bot.move()\n",
    "\n",
    "bot.turn_left()\n",
    "bot.turn_left()\n",
    "bot.move(len(to_pick) + 1)\n",
    "\n",
    "bot.turn_left()\n",
    "bot.turn_left()\n",
    "bot.turn_left()\n",
    "bot.move()\n",
    "\n",
    "bot.turn_left()\n",
    "bot.turn_left()\n",
    "bot.turn_left()\n",
    "while bot.object_here():\n",
    "    if bot.object_here() in to_pick:\n",
    "        bot.take()\n",
    "    bot.move()\n",
    "bot.check()"
   ]
  },
  {
   "cell_type": "code",
   "execution_count": null,
   "metadata": {},
   "outputs": [],
   "source": []
  }
 ],
 "metadata": {
  "kernelspec": {
   "display_name": "Python 3 (system-wide)",
   "language": "python",
   "name": "python3"
  },
  "language_info": {
   "codemirror_mode": {
    "name": "ipython",
    "version": 3
   },
   "file_extension": ".py",
   "mimetype": "text/x-python",
   "name": "python",
   "nbconvert_exporter": "python",
   "pygments_lexer": "ipython3",
   "version": "3.8.10"
  }
 },
 "nbformat": 4,
 "nbformat_minor": 4
}
