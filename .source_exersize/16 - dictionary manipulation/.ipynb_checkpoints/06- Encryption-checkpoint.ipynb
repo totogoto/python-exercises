{
 "cells": [
  {
   "cell_type": "code",
   "execution_count": 3,
   "metadata": {
    "hideCode": true,
    "hidePrompt": true
   },
   "outputs": [],
   "source": [
    "from worlds.levels import get_robo"
   ]
  },
  {
   "cell_type": "markdown",
   "metadata": {
    "hideCode": true,
    "hidePrompt": true
   },
   "source": [
    "# Encryption\n",
    "\n",
    "Help Otto to find proper message using given dictionary\n",
    "### What you need to know\n",
    "\n",
    "- The functions `move()` to move.\n",
    "- calling `move()` in front of a wall causes otto to crash into the wall and the program errors out. Please take care of otto 🤗\n",
    "- The function `message_here()` returns True if message in the current cell.\n",
    "- The function `read_message()` returns the message if the message in the current cell.\n",
    "#### Python  function\n",
    "- `dict. get(key[, default])` - Returns the value for key in the dictionary; if not found returns a default value.\n",
    "-  `s.lower()` : Return a copy of the string with all the cased characters converted to lowercase.\n",
    "-  `s.upper()` : Return a copy of the string with all the cased characters converted to uppercase.\n",
    "-  `s.capitalize()`: Return a copy of the string with only its first character capitalized.\n",
    "-  And many more ...  [Goto Docs](https://docs.python.org/3/library/stdtypes.html#string-methods)\n"
   ]
  },
  {
   "cell_type": "code",
   "execution_count": 5,
   "metadata": {
    "hideCode": true,
    "hidePrompt": true
   },
   "outputs": [
    {
     "data": {
      "application/vnd.jupyter.widget-view+json": {
       "model_id": "a8bb8d969955422faa75baf15a1767ed",
       "version_major": 2,
       "version_minor": 0
      },
      "text/plain": [
       "Maze()"
      ]
     },
     "metadata": {},
     "output_type": "display_data"
    },
    {
     "data": {
      "text/html": [
       "<text style=color:blue>💬 The future belongs to those who believe in the beauty of their dreams.</text>"
      ],
      "text/plain": [
       "<IPython.core.display.HTML object>"
      ]
     },
     "metadata": {},
     "output_type": "display_data"
    },
    {
     "data": {
      "text/html": [
       "<text style=color:blue>💬 Expected: The future belongs to those who believe in the beauty of their dreams.</text>"
      ],
      "text/plain": [
       "<IPython.core.display.HTML object>"
      ]
     },
     "metadata": {},
     "output_type": "display_data"
    }
   ],
   "source": [
    "bot = get_robo(\"encryption\")\n",
    "keys = bot.read_message()\n",
    "bot.move()\n",
    "values = bot.read_message()\n",
    "dictionary = {}\n",
    "for x in range(len(keys)):\n",
    "    dictionary[keys[x]] = values[x]\n",
    "    \n",
    "def rot(xy):\n",
    "    rot13 = ''\n",
    "    for c in xy:\n",
    "        if c.islower():\n",
    "            rot13 += dictionary.get(c, c)\n",
    "        if c.isupper():\n",
    "            c = c.lower()\n",
    "            rot13 += dictionary.get(c, c).capitalize()\n",
    "        if c not in dictionary:\n",
    "            rot13 += c  \n",
    "    return rot13\n",
    "\n",
    "bot.move()\n",
    "msg = bot.read_message()\n",
    "bot.report(rot(msg))\n",
    "bot.check()"
   ]
  },
  {
   "cell_type": "code",
   "execution_count": null,
   "metadata": {
    "collapsed": true,
    "hideCode": true,
    "hideOutput": true,
    "hidePrompt": true
   },
   "outputs": [],
   "source": []
  }
 ],
 "metadata": {
  "hide_code_all_hidden": true,
  "kernelspec": {
   "display_name": "Python 3 (system-wide)",
   "language": "python",
   "name": "python3"
  },
  "language_info": {
   "codemirror_mode": {
    "name": "ipython",
    "version": 3
   },
   "file_extension": ".py",
   "mimetype": "text/x-python",
   "name": "python",
   "nbconvert_exporter": "python",
   "pygments_lexer": "ipython3",
   "version": "3.8.10"
  }
 },
 "nbformat": 4,
 "nbformat_minor": 4
}
