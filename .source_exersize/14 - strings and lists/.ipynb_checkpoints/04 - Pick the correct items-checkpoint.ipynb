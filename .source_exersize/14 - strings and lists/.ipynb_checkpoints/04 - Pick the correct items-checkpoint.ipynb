{
 "cells": [
  {
   "cell_type": "code",
   "execution_count": 1,
   "metadata": {},
   "outputs": [],
   "source": [
    "from worlds.levels import get_robo"
   ]
  },
  {
   "cell_type": "markdown",
   "metadata": {},
   "source": [
    "# Pick the correct items\n",
    "\n",
    "\n",
    "\n",
    "### What you need to know\n",
    "\n",
    "- The functions `move()` to move.\n",
    "- calling `move()` in front of a wall causes otto to crash into the wall and the program errors out. Please take care of otto 🤗\n",
    "- The function `message_here()` returns True if message in the current cell.\n",
    "- The function `read_message()` returns the message if the message in the current cell.\n",
    "\n",
    "#### Python buitin function\n",
    "- `len(s)` - returns the length of the string\n",
    "\n",
    "#### Python string spliting\n",
    " - `s.split(sep=None, maxsplit=-1)`: Returns a list of the words in the string, using sep as the delimiter string. If maxsplit is given, at most maxsplit splits are done (thus, the list will have at most maxsplit+1 elements). If maxsplit is not specified or -1, then there is no limit on the number of splits (all possible splits are made).\n",
    "\n",
    "\n"
   ]
  },
  {
   "cell_type": "code",
   "execution_count": 2,
   "metadata": {},
   "outputs": [
    {
     "data": {
      "application/vnd.jupyter.widget-view+json": {
       "model_id": "f9c6590a26714b6496b523d4511a08ea",
       "version_major": 2,
       "version_minor": 0
      },
      "text/plain": [
       "Maze()"
      ]
     },
     "metadata": {},
     "output_type": "display_data"
    },
    {
     "data": {
      "text/html": [
       "<text style=color:blue>💬 Expected: Pick object carrot at: 4,1</text>"
      ],
      "text/plain": [
       "<IPython.core.display.HTML object>"
      ]
     },
     "metadata": {},
     "output_type": "display_data"
    },
    {
     "data": {
      "text/html": [
       "<text style=color:blue>💬 Expected: Pick object daisy at: 5,1</text>"
      ],
      "text/plain": [
       "<IPython.core.display.HTML object>"
      ]
     },
     "metadata": {},
     "output_type": "display_data"
    }
   ],
   "source": [
    "bot = get_robo(\"count_words\")\n",
    "msg = bot.read_message()\n",
    "#Your Code here\n",
    "items = msg.split(\",\")\n",
    "for x in range(9):\n",
    "    bot.move()\n",
    "    obj = bot.object_here()\n",
    "    if obj is not None and obj in items:\n",
    "        bot.take()\n",
    "bot.check()"
   ]
  },
  {
   "cell_type": "code",
   "execution_count": 3,
   "metadata": {},
   "outputs": [],
   "source": [
    "#read the message from 1st cell, pick based on that"
   ]
  },
  {
   "cell_type": "code",
   "execution_count": null,
   "metadata": {},
   "outputs": [],
   "source": []
  }
 ],
 "metadata": {
  "kernelspec": {
   "display_name": "Python 3 (system-wide)",
   "language": "python",
   "name": "python3"
  },
  "language_info": {
   "codemirror_mode": {
    "name": "ipython",
    "version": 3
   },
   "file_extension": ".py",
   "mimetype": "text/x-python",
   "name": "python",
   "nbconvert_exporter": "python",
   "pygments_lexer": "ipython3",
   "version": "3.8.10"
  }
 },
 "nbformat": 4,
 "nbformat_minor": 4
}
