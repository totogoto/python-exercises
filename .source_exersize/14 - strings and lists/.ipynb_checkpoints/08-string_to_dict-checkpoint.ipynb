{
 "cells": [
  {
   "cell_type": "code",
   "execution_count": 9,
   "metadata": {},
   "outputs": [],
   "source": [
    "from worlds.levels import get_robo"
   ]
  },
  {
   "cell_type": "markdown",
   "metadata": {},
   "source": [
    "# Decode Messge\n",
    "\n",
    "### What you need to know\n",
    "\n",
    "- The functions `move()` to move.\n",
    "- calling `move()` in front of a wall causes otto to crash into the wall and the program errors out. Please take care of otto 🤗\n",
    "\n",
    "- The function `message_here()` returns True if message in the current cell.\n",
    "- The function `read_message()` returns the message if the message in the current cell.\n",
    "\n",
    "#### Python buitin function\n",
    "- `len(s)` - returns the length of the string.\n",
    "- `int(s)` - converts the string into number and returns.\n",
    "\n",
    "#### Python string spliting\n",
    "- `'sep'.join(str)`The `join()` string method returns a string by joining all the elements of an iterable (list, string, tuple), separated by a string separator.\n",
    "\n",
    "- `s.split(sep=None, maxsplit=-1)`: Returns a list of the words in the string, using sep as the delimiter string. If maxsplit is given, at most maxsplit splits are done (thus, the list will have at most maxsplit+1 elements). If maxsplit is not specified or -1, then there is no limit on the number of splits (all possible splits are made).\n",
    "\n"
   ]
  },
  {
   "cell_type": "code",
   "execution_count": 15,
   "metadata": {},
   "outputs": [
    {
     "data": {
      "application/vnd.jupyter.widget-view+json": {
       "model_id": "35c4335e99d848f88f263056c68f0f86",
       "version_major": 2,
       "version_minor": 0
      },
      "text/plain": [
       "Maze()"
      ]
     },
     "metadata": {},
     "output_type": "display_data"
    },
    {
     "data": {
      "text/html": [
       "<text style=color:blue>💬 aaaaaaabbbbbbbbdddddddddmmmmm</text>"
      ],
      "text/plain": [
       "<IPython.core.display.HTML object>"
      ]
     },
     "metadata": {},
     "output_type": "display_data"
    },
    {
     "data": {
      "text/html": [
       "<text style=color:blue>💬 Expected: aaaaaaabbbbbbbbdddddddddmmmmm</text>"
      ],
      "text/plain": [
       "<IPython.core.display.HTML object>"
      ]
     },
     "metadata": {},
     "output_type": "display_data"
    }
   ],
   "source": [
    "bot = get_robo(\"decode\")\n",
    "#Your Code here\n",
    "while not bot.message_here():\n",
    "    bot.move()\n",
    "    \n",
    "msg = bot.read_message()\n",
    "decoded = \"\"\n",
    "\n",
    "for x in range(0,len(msg),2):\n",
    "    char=msg[x]\n",
    "    num = int(msg[x+1])\n",
    "    \n",
    "    decoded +=char*num\n",
    "    \n",
    "bot.report(decoded)    \n",
    "bot.check()"
   ]
  },
  {
   "cell_type": "code",
   "execution_count": null,
   "metadata": {},
   "outputs": [],
   "source": []
  }
 ],
 "metadata": {
  "kernelspec": {
   "display_name": "Python 3 (system-wide)",
   "language": "python",
   "name": "python3"
  },
  "language_info": {
   "codemirror_mode": {
    "name": "ipython",
    "version": 3
   },
   "file_extension": ".py",
   "mimetype": "text/x-python",
   "name": "python",
   "nbconvert_exporter": "python",
   "pygments_lexer": "ipython3",
   "version": "3.8.10"
  }
 },
 "nbformat": 4,
 "nbformat_minor": 4
}
