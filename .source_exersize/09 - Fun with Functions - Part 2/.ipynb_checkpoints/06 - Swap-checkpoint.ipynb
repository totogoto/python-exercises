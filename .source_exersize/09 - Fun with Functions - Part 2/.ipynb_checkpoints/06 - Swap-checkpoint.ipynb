{
 "cells": [
  {
   "cell_type": "code",
   "execution_count": 3,
   "metadata": {},
   "outputs": [],
   "source": [
    "from worlds.levels import get_robo"
   ]
  },
  {
   "cell_type": "markdown",
   "metadata": {},
   "source": [
    "# Swap the apples with the bananas\n",
    "\n",
    "The apples and bananas are in the wrong places. You need to swap their places\n",
    "\n",
    "Otto can only 1 item at a time, so help otto complete this arduous task!\n",
    "\n",
    "Hint: Use the empty spaces to place the object to move items around\n",
    "\n",
    "\n",
    "### What you need to know\n",
    "- The functions move(), turn_left() to move and turn otto around\n",
    "- calling move() in front of a wall causes otto to crash into the wall and the program errors out. Please take care of otto 🤗\n",
    "- The function report(message) to report any message. The message needs to be a python string\n",
    "- The function take() will pick up the object in the current cell. Otto needs to pick the correct objects and leave the rest in place\n",
    "- The function object_here() returns the object in the current cell (in this case \"apple\" on cells with apples)\n",
    "- The function wall_in_front() returns True if Otto is facing a wall, False otherwise"
   ]
  },
  {
   "cell_type": "code",
   "execution_count": 8,
   "metadata": {},
   "outputs": [],
   "source": [
    "def move_and_turn(bot, times):\n",
    "    for _ in range(times):\n",
    "        bot.move()\n",
    "        bot.turn_left()\n",
    "\n",
    "def swap(bot):\n",
    "    #your code\n",
    "    \n",
    "    #pick banana\n",
    "    bot.take()\n",
    "\n",
    "    #drop banana\n",
    "    move_and_turn(bot, 2)\n",
    "    bot.put()\n",
    "\n",
    "    #pick apple\n",
    "    move_and_turn(bot, 1)\n",
    "    bot.take()\n",
    "\n",
    "    #drop apple\n",
    "    move_and_turn(bot, 1)\n",
    "    bot.put()\n",
    "\n",
    "def go_home(bot, steps):\n",
    "    bot.turn_left()\n",
    "    move_and_turn(bot,1)\n",
    "    bot.move(steps)\n",
    "    \n"
   ]
  },
  {
   "cell_type": "code",
   "execution_count": 16,
   "metadata": {},
   "outputs": [
    {
     "data": {
      "application/vnd.jupyter.widget-view+json": {
       "model_id": "2dee71a0f6db4f33bc148d87a2435b48",
       "version_major": 2,
       "version_minor": 0
      },
      "text/plain": [
       "Maze()"
      ]
     },
     "metadata": {},
     "output_type": "display_data"
    },
    {
     "data": {
      "text/html": [
       "<text style=color:blue>💬 Expected: Final Position: 1,2</text>"
      ],
      "text/plain": [
       "<IPython.core.display.HTML object>"
      ]
     },
     "metadata": {},
     "output_type": "display_data"
    }
   ],
   "source": [
    "def solve(bot):\n",
    "    c=1\n",
    "    for x in range(5):\n",
    "        move_and_turn(bot, 2)\n",
    "        if bot.object_here():\n",
    "            c=c+1\n",
    "\n",
    "            swap(bot)\n",
    "            \n",
    "            bot.turn_left()\n",
    "            move_and_turn(bot, 1)\n",
    "            \n",
    "    bot.move(c)\n",
    "    bot.turn_left()\n",
    "    move_and_turn(bot,1)\n",
    "    bot.take()\n",
    "    bot.move(c-1)\n",
    "    bot.put()\n",
    "    go_home(bot, c-1)\n",
    "    \n",
    "bot = get_robo(\"swap\")\n",
    "solve(bot)\n",
    "bot.check()"
   ]
  },
  {
   "cell_type": "code",
   "execution_count": null,
   "metadata": {},
   "outputs": [],
   "source": []
  }
 ],
 "metadata": {
  "kernelspec": {
   "display_name": "Python 3 (system-wide)",
   "language": "python",
   "name": "python3"
  },
  "language_info": {
   "codemirror_mode": {
    "name": "ipython",
    "version": 3
   },
   "file_extension": ".py",
   "mimetype": "text/x-python",
   "name": "python",
   "nbconvert_exporter": "python",
   "pygments_lexer": "ipython3",
   "version": "3.8.10"
  }
 },
 "nbformat": 4,
 "nbformat_minor": 4
}
