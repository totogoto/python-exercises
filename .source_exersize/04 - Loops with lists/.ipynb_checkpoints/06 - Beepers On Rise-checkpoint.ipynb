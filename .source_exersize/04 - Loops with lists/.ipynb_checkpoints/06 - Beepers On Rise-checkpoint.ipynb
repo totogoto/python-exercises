{
 "cells": [
  {
   "cell_type": "code",
   "execution_count": 3,
   "id": "dd403438-355c-417f-9311-d75b6b043251",
   "metadata": {},
   "outputs": [],
   "source": [
    "from worlds.levels import get_robo"
   ]
  },
  {
   "cell_type": "markdown",
   "id": "1818d44a",
   "metadata": {},
   "source": [
    "# Beepers on Fire\n",
    "\n",
    "### What you need to know\n",
    "\n",
    "- The function `move()` to move.\n",
    "- calling `move()` in front of a wall causes otto to crash into the wall and the program errors out. Please take care of otto 🤗\n",
    "- The function `turn_left` will rotate left by 90 degrees.\n",
    "- `for` : A for loop is used for iterating over a sequence.\n",
    "- `range(start, stop, step)` : The range() function returns a sequence of numbers, starting from 0 by default, and increments by 1 (by default), and stops before a specified number.\n",
    "- `object_here()` : Check and return the name of the object in the current cell\n",
    "- The function `take()` will pick up the object in the current cell. Otto needs to pick the correct objects and leave the rest in place"
   ]
  },
  {
   "cell_type": "code",
   "execution_count": 4,
   "id": "3d9ad222-140c-4542-b846-e13fcd76a869",
   "metadata": {},
   "outputs": [
    {
     "data": {
      "application/vnd.jupyter.widget-view+json": {
       "model_id": "ef066f80bc9245ae8daff52e84ebaa04",
       "version_major": 2,
       "version_minor": 0
      },
      "text/plain": [
       "Maze()"
      ]
     },
     "metadata": {},
     "output_type": "display_data"
    }
   ],
   "source": [
    "bot = get_robo('beepers_on_rise')\n",
    "\n",
    "#your code here\n",
    "bot.check()"
   ]
  },
  {
   "cell_type": "code",
   "execution_count": null,
   "id": "6f61023f-aa00-46d7-b2ae-de5335ae8110",
   "metadata": {},
   "outputs": [],
   "source": []
  }
 ],
 "metadata": {
  "kernelspec": {
   "display_name": "Python 3 (system-wide)",
   "language": "python",
   "name": "python3"
  },
  "language_info": {
   "codemirror_mode": {
    "name": "ipython",
    "version": 3
   },
   "file_extension": ".py",
   "mimetype": "text/x-python",
   "name": "python",
   "nbconvert_exporter": "python",
   "pygments_lexer": "ipython3",
   "version": "3.8.10"
  }
 },
 "nbformat": 4,
 "nbformat_minor": 5
}
