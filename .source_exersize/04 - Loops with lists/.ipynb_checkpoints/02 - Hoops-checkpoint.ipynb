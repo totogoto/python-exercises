{
 "cells": [
  {
   "cell_type": "code",
   "execution_count": 1,
   "id": "4597d66a-6bcb-440a-bcd1-07d55289465e",
   "metadata": {},
   "outputs": [],
   "source": [
    "from worlds.levels import get_robo"
   ]
  },
  {
   "cell_type": "markdown",
   "id": "68ed3e4d",
   "metadata": {},
   "source": [
    "# Hoops\n",
    "\n",
    "Help otto pick up all the flags!\n",
    "\n",
    "### What you need to know\n",
    "\n",
    "- The function `move()` to move.\n",
    "- calling `move()` in front of a wall causes otto to crash into the wall and the program errors out. Please take care of otto 🤗\n",
    "- The function `turn_left` will rotate left by 90 degrees.\n",
    "- `for` : A for loop is used for iterating over a sequence.\n",
    "- `range(start, stop, step)` : The range() function returns a sequence of numbers, starting from 0 by default, and increments by 1 (by default), and stops before a specified number.\n",
    "- `wall_in_front`: Checks if there is a wall in front of the robot"
   ]
  },
  {
   "cell_type": "code",
   "execution_count": 30,
   "id": "2ac077fa-2c34-41e4-98bf-0b217a615333",
   "metadata": {},
   "outputs": [
    {
     "data": {
      "application/vnd.jupyter.widget-view+json": {
       "model_id": "e564ae1266344c63b1a7656467344dc4",
       "version_major": 2,
       "version_minor": 0
      },
      "text/plain": [
       "Maze()"
      ]
     },
     "metadata": {},
     "output_type": "display_data"
    },
    {
     "data": {
      "text/html": [
       "<text style=color:blue>💬 Expected: 7 Flags</text>"
      ],
      "text/plain": [
       "<IPython.core.display.HTML object>"
      ]
     },
     "metadata": {},
     "output_type": "display_data"
    }
   ],
   "source": [
    "bot = get_robo('hoops')\n",
    "#your code here\n",
    "\n",
    "bot.check()"
   ]
  },
  {
   "cell_type": "code",
   "execution_count": null,
   "id": "84d27315",
   "metadata": {},
   "outputs": [],
   "source": []
  }
 ],
 "metadata": {
  "kernelspec": {
   "display_name": "Python 3 (system-wide)",
   "language": "python",
   "name": "python3"
  },
  "language_info": {
   "codemirror_mode": {
    "name": "ipython",
    "version": 3
   },
   "file_extension": ".py",
   "mimetype": "text/x-python",
   "name": "python",
   "nbconvert_exporter": "python",
   "pygments_lexer": "ipython3",
   "version": "3.8.10"
  }
 },
 "nbformat": 4,
 "nbformat_minor": 5
}
