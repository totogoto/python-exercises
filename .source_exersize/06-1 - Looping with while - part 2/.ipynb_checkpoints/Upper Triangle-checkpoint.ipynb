{
 "cells": [
  {
   "cell_type": "code",
   "execution_count": 1,
   "metadata": {},
   "outputs": [],
   "source": [
    "from worlds.levels import get_robo"
   ]
  },
  {
   "cell_type": "code",
   "execution_count": 4,
   "metadata": {},
   "outputs": [
    {
     "data": {
      "application/vnd.jupyter.widget-view+json": {
       "model_id": "7ad50afebf0b4c25990c4145df259376",
       "version_major": 2,
       "version_minor": 0
      },
      "text/plain": [
       "Maze()"
      ]
     },
     "metadata": {},
     "output_type": "display_data"
    }
   ],
   "source": [
    "bot = get_robo(\"upper_triangle\")\n",
    "bot.set_speed(0)\n",
    "def get_size():\n",
    "    count = 0\n",
    "    while not bot.wall_in_front():\n",
    "        bot.move()\n",
    "        count +=1\n",
    "    return count\n",
    "\n",
    "while bot.object_here():\n",
    "    bot.take()\n",
    "    \n",
    "s=get_size()-2\n",
    "bot.turn_left()\n",
    "bot.move()\n",
    "bot.turn_left()\n",
    "bot.move(2)\n",
    "i=0\n",
    "# bot.check()\n"
   ]
  },
  {
   "cell_type": "code",
   "execution_count": 3,
   "metadata": {},
   "outputs": [],
   "source": [
    "stars = s//2+1\n",
    "for i in range(s//2+1):\n",
    "    for _ in range(stars):\n",
    "        bot.put()\n",
    "        bot.move()\n",
    "    bot.turn_left()\n",
    "    bot.turn_left()\n",
    "    bot.move(stars-1)\n",
    "    bot.turn_left()\n",
    "    bot.move()\n",
    "    bot.turn_left()\n",
    "    stars = stars - 2"
   ]
  },
  {
   "cell_type": "code",
   "execution_count": null,
   "metadata": {},
   "outputs": [],
   "source": []
  }
 ],
 "metadata": {
  "kernelspec": {
   "display_name": "Python 3 (system-wide)",
   "language": "python",
   "name": "python3"
  },
  "language_info": {
   "codemirror_mode": {
    "name": "ipython",
    "version": 3
   },
   "file_extension": ".py",
   "mimetype": "text/x-python",
   "name": "python",
   "nbconvert_exporter": "python",
   "pygments_lexer": "ipython3",
   "version": "3.8.10"
  }
 },
 "nbformat": 4,
 "nbformat_minor": 4
}
