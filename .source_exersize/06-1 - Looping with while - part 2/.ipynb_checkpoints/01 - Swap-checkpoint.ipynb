{
 "cells": [
  {
   "cell_type": "code",
   "execution_count": 3,
   "metadata": {},
   "outputs": [],
   "source": [
    "from worlds.levels import get_robo"
   ]
  },
  {
   "cell_type": "markdown",
   "metadata": {},
   "source": [
    "# Swap the apples with the bananas\n",
    "\n",
    "The apples and bananas are in the wrong places. You need to swap their places\n",
    "\n",
    "Otto can only 1 item at a time, so help otto complete this arduous task!\n",
    "\n",
    "Hint: Use the empty spaces to place the object to move items around\n",
    "\n",
    "\n",
    "### What you need to know\n",
    "- The functions move(), turn_left() to move and turn otto around\n",
    "- calling move() in front of a wall causes otto to crash into the wall and the program errors out. Please take care of otto 🤗\n",
    "- The function report(message) to report any message. The message needs to be a python string\n",
    "- The function take() will pick up the object in the current cell. Otto needs to pick the correct objects and leave the rest in place\n",
    "- The function object_here() returns the object in the current cell (in this case \"apple\" on cells with apples)\n",
    "- The function wall_in_front() returns True if Otto is facing a wall, False otherwise"
   ]
  },
  {
   "cell_type": "code",
   "execution_count": 10,
   "metadata": {},
   "outputs": [
    {
     "data": {
      "application/vnd.jupyter.widget-view+json": {
       "model_id": "6e96fe2b918c4255abd8f65e631e4909",
       "version_major": 2,
       "version_minor": 0
      },
      "text/plain": [
       "Maze()"
      ]
     },
     "metadata": {},
     "output_type": "display_data"
    },
    {
     "data": {
      "text/html": [
       "<text style=color:red>✗ Expected: Final Position: 1,2</text>"
      ],
      "text/plain": [
       "<IPython.core.display.HTML object>"
      ]
     },
     "metadata": {},
     "output_type": "display_data"
    }
   ],
   "source": [
    "bot = get_robo(\"swap\")\n",
    "#your code here\n",
    "#Note: bot capacity is 1 (can take only one item at a time)\n",
    "\n",
    "bot.check()\n"
   ]
  }
 ],
 "metadata": {
  "kernelspec": {
   "display_name": "Python 3 (system-wide)",
   "language": "python",
   "name": "python3"
  },
  "language_info": {
   "codemirror_mode": {
    "name": "ipython",
    "version": 3
   },
   "file_extension": ".py",
   "mimetype": "text/x-python",
   "name": "python",
   "nbconvert_exporter": "python",
   "pygments_lexer": "ipython3",
   "version": "3.8.10"
  }
 },
 "nbformat": 4,
 "nbformat_minor": 4
}
