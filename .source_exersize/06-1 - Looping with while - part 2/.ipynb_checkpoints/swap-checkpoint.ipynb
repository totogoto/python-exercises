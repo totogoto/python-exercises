{
 "cells": [
  {
   "cell_type": "code",
   "execution_count": 8,
   "metadata": {},
   "outputs": [],
   "source": [
    "from worlds.levels import get_robo"
   ]
  },
  {
   "cell_type": "code",
   "execution_count": 9,
   "metadata": {},
   "outputs": [
    {
     "data": {
      "application/vnd.jupyter.widget-view+json": {
       "model_id": "4040e46d7d4946d0b28ac6430a62a47e",
       "version_major": 2,
       "version_minor": 0
      },
      "text/plain": [
       "Maze()"
      ]
     },
     "metadata": {},
     "output_type": "display_data"
    }
   ],
   "source": [
    "bot = get_robo(\"swap\")\n",
    "\n",
    "def turn_x(times):\n",
    "    for x in range(times):\n",
    "        bot.turn_left()\n",
    "\n",
    "def drop_banana():\n",
    "    bot.move()\n",
    "    bot.take()\n",
    "    turn_x(2)\n",
    "    bot.move()\n",
    "    bot.turn_left()\n",
    "    bot.move()\n",
    "    bot.put()\n",
    "\n",
    "\n",
    "def drop_apple():\n",
    "    bot.turn_left()\n",
    "    bot.move()\n",
    "    bot.take()\n",
    "    bot.turn_left()\n",
    "    bot.move()\n",
    "    bot.put()\n",
    "\n",
    "\n",
    "def count():\n",
    "    counter = 0\n",
    "    while not bot.wall_in_front():\n",
    "        bot.move()\n",
    "        counter +=1\n",
    "    return counter\n",
    "\n",
    "# x = count()\n",
    "# bot.turn_left()\n",
    "# bot.move()\n",
    "# bot.turn_left()\n",
    "# bot.move(x - 1)\n",
    "\n",
    "\n",
    "# #Fist Banana\n",
    "# bot.take()\n",
    "# turn_x(2)\n",
    "# bot.move(x-1)\n",
    "# bot.put()\n",
    "# turn_x(2)\n",
    "# bot.move(x)\n",
    "# turn_x(1)\n",
    "# bot.move()\n",
    "\n",
    "\n",
    "# for _ in range(x - 1):\n",
    "#     drop_apple()\n",
    "#     turn_x(3)\n",
    "#     drop_banana()\n",
    "\n",
    "# #go home\n",
    "# turn_x(2)\n",
    "# bot.move()\n",
    "# bot.turn_left()\n",
    "# bot.move(x -1)\n",
    "\n",
    "\n",
    "# bot.check()\n"
   ]
  },
  {
   "cell_type": "code",
   "execution_count": 10,
   "metadata": {},
   "outputs": [],
   "source": [
    "def step():\n",
    "    for _ in range(2):\n",
    "        bot.move()\n",
    "        bot.turn_left()\n",
    "    bot.take()\n",
    "    for _ in range(2):\n",
    "        bot.move()\n",
    "        bot.turn_left()\n",
    "    bot.put()\n",
    "    \n",
    "    bot.move()\n",
    "    bot.turn_left()\n",
    "    bot.take()\n",
    "    bot.move()\n",
    "    bot.turn_left()\n",
    "    bot.put()\n",
    "    bot.turn_left()\n",
    "    bot.move()\n",
    "    bot.turn_left()"
   ]
  },
  {
   "cell_type": "code",
   "execution_count": null,
   "metadata": {},
   "outputs": [],
   "source": []
  }
 ],
 "metadata": {
  "kernelspec": {
   "display_name": "Python 3 (system-wide)",
   "language": "python",
   "name": "python3"
  },
  "language_info": {
   "codemirror_mode": {
    "name": "ipython",
    "version": 3
   },
   "file_extension": ".py",
   "mimetype": "text/x-python",
   "name": "python",
   "nbconvert_exporter": "python",
   "pygments_lexer": "ipython3",
   "version": "3.8.10"
  }
 },
 "nbformat": 4,
 "nbformat_minor": 4
}
