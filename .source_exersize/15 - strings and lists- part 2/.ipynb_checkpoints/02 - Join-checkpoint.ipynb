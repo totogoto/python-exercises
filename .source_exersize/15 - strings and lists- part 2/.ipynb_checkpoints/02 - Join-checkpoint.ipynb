{
 "cells": [
  {
   "cell_type": "code",
   "execution_count": 1,
   "metadata": {},
   "outputs": [],
   "source": [
    "from worlds.levels import get_robo"
   ]
  },
  {
   "cell_type": "markdown",
   "metadata": {},
   "source": [
    "# Join Words\n",
    "\n",
    "### What you need to know\n",
    "\n",
    "- The functions `move()` to move.\n",
    "- calling `move()` in front of a wall causes otto to crash into the wall and the program errors out. Please take care of otto 🤗\n",
    "\n",
    "- The function `take()` will pick up the object in the current cell. Otto needs to pick the correct objects and leave the rest in place\n",
    "- The function `object_here()` returns the object in the current cell (in this case \"banana\" on cells with banana)\n",
    "\n",
    "#### Python string spliting\n",
    "`'sep'.join(str)`The `join()` string method returns a string by joining all the elements of an iterable (list, string, tuple), separated by a string separator.\n"
   ]
  },
  {
   "cell_type": "code",
   "execution_count": 5,
   "metadata": {},
   "outputs": [
    {
     "data": {
      "application/vnd.jupyter.widget-view+json": {
       "model_id": "b5036856a7ee4035a1fab0ce25650328",
       "version_major": 2,
       "version_minor": 0
      },
      "text/plain": [
       "Maze()"
      ]
     },
     "metadata": {},
     "output_type": "display_data"
    },
    {
     "data": {
      "text/html": [
       "<text style=color:blue>💬 strawberry and banana</text>"
      ],
      "text/plain": [
       "<IPython.core.display.HTML object>"
      ]
     },
     "metadata": {},
     "output_type": "display_data"
    },
    {
     "data": {
      "text/html": [
       "<text style=color:blue>💬 Expected: strawberry and banana</text>"
      ],
      "text/plain": [
       "<IPython.core.display.HTML object>"
      ]
     },
     "metadata": {},
     "output_type": "display_data"
    }
   ],
   "source": [
    "bot = get_robo(\"join_words\")\n",
    "#Your Code here\n",
    "items = []\n",
    "for i in range(2):\n",
    "    bot.move()\n",
    "    items.append(bot.object_here())\n",
    "\n",
    "bot.report(' and '.join(items))\n",
    "bot.check()"
   ]
  },
  {
   "cell_type": "code",
   "execution_count": null,
   "metadata": {},
   "outputs": [],
   "source": []
  }
 ],
 "metadata": {
  "kernelspec": {
   "display_name": "Python 3 (system-wide)",
   "language": "python",
   "name": "python3"
  },
  "language_info": {
   "codemirror_mode": {
    "name": "ipython",
    "version": 3
   },
   "file_extension": ".py",
   "mimetype": "text/x-python",
   "name": "python",
   "nbconvert_exporter": "python",
   "pygments_lexer": "ipython3",
   "version": "3.8.10"
  }
 },
 "nbformat": 4,
 "nbformat_minor": 4
}
