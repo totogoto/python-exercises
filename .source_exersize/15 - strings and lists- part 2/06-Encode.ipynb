{
 "cells": [
  {
   "cell_type": "code",
   "execution_count": 1,
   "metadata": {},
   "outputs": [],
   "source": [
    "from worlds.levels import get_robo"
   ]
  },
  {
   "cell_type": "markdown",
   "metadata": {},
   "source": [
    "# Encode Messge\n",
    "\n",
    "### What you need to know\n",
    "\n",
    "- The functions `move()` to move.\n",
    "- calling `move()` in front of a wall causes otto to crash into the wall and the program errors out. Please take care of otto 🤗\n",
    "\n",
    "- The function `message_here()` returns True if message in the current cell.\n",
    "- The function `read_message()` returns the message if the message in the current cell.\n",
    "\n",
    "#### Python buitin function\n",
    "- `len(s)` - returns the length of the string\n",
    "\n",
    "#### Python string spliting\n",
    "- `'sep'.join(str)`The `join()` string method returns a string by joining all the elements of an iterable (list, string, tuple), separated by a string separator.\n",
    "\n",
    "- `s.split(sep=None, maxsplit=-1)`: Returns a list of the words in the string, using sep as the delimiter string. If maxsplit is given, at most maxsplit splits are done (thus, the list will have at most maxsplit+1 elements). If maxsplit is not specified or -1, then there is no limit on the number of splits (all possible splits are made).\n",
    "\n"
   ]
  },
  {
   "cell_type": "code",
   "execution_count": 2,
   "metadata": {},
   "outputs": [
    {
     "data": {
      "application/vnd.jupyter.widget-view+json": {
       "model_id": "377c2db123ad4b2dadcf6c4cc0096512",
       "version_major": 2,
       "version_minor": 0
      },
      "text/plain": [
       "Maze()"
      ]
     },
     "metadata": {},
     "output_type": "display_data"
    },
    {
     "name": "stdout",
     "output_type": "stream",
     "text": [
      "aaaaabbbbbbbbbddddmmmmmmmmbbbbbbbbbddddd\n"
     ]
    },
    {
     "data": {
      "text/html": [
       "<text style=color:blue>💬 a5b9d4m8b9d5</text>"
      ],
      "text/plain": [
       "<IPython.core.display.HTML object>"
      ]
     },
     "metadata": {},
     "output_type": "display_data"
    },
    {
     "data": {
      "text/html": [
       "<text style=color:blue>💬 Expected: a5b9d4m8b9d5</text>"
      ],
      "text/plain": [
       "<IPython.core.display.HTML object>"
      ]
     },
     "metadata": {},
     "output_type": "display_data"
    }
   ],
   "source": [
    "bot = get_robo(\"run_length\")\n",
    "msg = bot.read_message()\n",
    "#Your Code here\n",
    "print(msg)\n",
    "\n",
    "count = 0\n",
    "last_char = msg[0]\n",
    "ec = []\n",
    "\n",
    "for x in msg:\n",
    "    if x == last_char:\n",
    "        count +=1\n",
    "    else:\n",
    "        ec.append(last_char)\n",
    "        ec.append(f\"{count}\")\n",
    "        last_char = x\n",
    "        count = 1\n",
    "        \n",
    "ec.append(last_char)\n",
    "ec.append(f\"{count}\")\n",
    "\n",
    "bot.report(''.join(ec))\n",
    "bot.check()"
   ]
  },
  {
   "cell_type": "code",
   "execution_count": null,
   "metadata": {},
   "outputs": [],
   "source": []
  }
 ],
 "metadata": {
  "kernelspec": {
   "display_name": "Python 3 (system-wide)",
   "language": "python",
   "name": "python3"
  },
  "language_info": {
   "codemirror_mode": {
    "name": "ipython",
    "version": 3
   },
   "file_extension": ".py",
   "mimetype": "text/x-python",
   "name": "python",
   "nbconvert_exporter": "python",
   "pygments_lexer": "ipython3",
   "version": "3.8.10"
  }
 },
 "nbformat": 4,
 "nbformat_minor": 4
}
