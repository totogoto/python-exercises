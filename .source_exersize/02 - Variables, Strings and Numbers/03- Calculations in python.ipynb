{
 "cells": [
  {
   "cell_type": "markdown",
   "metadata": {},
   "source": [
    "#### Types of numbers in python"
   ]
  },
  {
   "cell_type": "code",
   "execution_count": 4,
   "metadata": {},
   "outputs": [
    {
     "data": {
      "text/plain": [
       "float"
      ]
     },
     "execution_count": 4,
     "metadata": {},
     "output_type": "execute_result"
    }
   ],
   "source": [
    "type(3.14159)"
   ]
  },
  {
   "cell_type": "code",
   "execution_count": 5,
   "metadata": {},
   "outputs": [
    {
     "data": {
      "text/plain": [
       "int"
      ]
     },
     "execution_count": 5,
     "metadata": {},
     "output_type": "execute_result"
    }
   ],
   "source": [
    "type(10)"
   ]
  },
  {
   "cell_type": "markdown",
   "metadata": {},
   "source": [
    "#### Operators in Python\n",
    "```\n",
    "+ Addition\n",
    "- Subtraction\n",
    "/ Division\n",
    "* Multiplication\n",
    "** Exponentiation\n",
    "% Reminder (or modulo)\n",
    "// floor division\n",
    "```\n"
   ]
  },
  {
   "cell_type": "code",
   "execution_count": 18,
   "metadata": {},
   "outputs": [
    {
     "name": "stdout",
     "output_type": "stream",
     "text": [
      "56.0\n",
      "32\n",
      "2\n",
      "4.2\n",
      "4\n"
     ]
    }
   ],
   "source": [
    "print((10+20*30-50)/10)\n",
    "print(2 ** 5) # same as 2*2*2*2*2\n",
    "print(42 % 10) # Reminder of 42 divide by 10\n",
    "print(42 / 10) # Regular division\n",
    "print(42 // 10) # Floor division"
   ]
  },
  {
   "cell_type": "markdown",
   "metadata": {},
   "source": [
    "#### Calculator in python\n",
    "\n",
    "You can use python as a calculator!\n",
    "\n",
    "Try doing simple math Eg: \n",
    "```5*(2+10)/2.5```\n",
    "\n",
    "Try using the operators from above Eg. exponentiation, Reminder(Modulo) and Floor Division"
   ]
  },
  {
   "cell_type": "code",
   "execution_count": 9,
   "metadata": {},
   "outputs": [
    {
     "data": {
      "text/plain": [
       "24.0"
      ]
     },
     "execution_count": 9,
     "metadata": {},
     "output_type": "execute_result"
    }
   ],
   "source": [
    "### your code here\n"
   ]
  },
  {
   "cell_type": "markdown",
   "metadata": {},
   "source": [
    "You can use variables to perform operations\n",
    "\n",
    "Example below\n"
   ]
  },
  {
   "cell_type": "code",
   "execution_count": 2,
   "metadata": {
    "scrolled": true
   },
   "outputs": [
    {
     "name": "stdout",
     "output_type": "stream",
     "text": [
      "7200\n"
     ]
    }
   ],
   "source": [
    "# try chaing the numbers and see the change in the ouput\n",
    "\n",
    "time_elapsed_in_hours = 2\n",
    "time_elapsed_in_seconds = time_elapsed_in_hours  * 60 * 60\n",
    "\n",
    "\n",
    "print(time_elapsed_in_seconds)"
   ]
  },
  {
   "cell_type": "markdown",
   "metadata": {},
   "source": [
    "#### Exercise\n",
    "\n",
    "Lets say you are throwing a __pizza party__. One pizza can serve 4 people<br>\n",
    "\n",
    "If you are, for instance, inviting 8 people you need to buy 2 pizzas\n",
    "\n",
    "1. If you invite N people to the party, calculate the number of pizzas you need to order (you can only buy full pizzas!)"
   ]
  },
  {
   "cell_type": "code",
   "execution_count": 19,
   "metadata": {},
   "outputs": [],
   "source": [
    "### your code here\n",
    "number_of_people_invited = 20"
   ]
  },
  {
   "cell_type": "markdown",
   "metadata": {},
   "source": [
    "2. Lets say the cost of a single pizza is C. Can you now calculate the total cost to buy pizzas for the party?"
   ]
  },
  {
   "cell_type": "code",
   "execution_count": 20,
   "metadata": {},
   "outputs": [],
   "source": [
    "cost_of_one_pizza = 10"
   ]
  },
  {
   "cell_type": "markdown",
   "metadata": {},
   "source": [
    "3. if a group of N friends are splitting the bill, what is your share?"
   ]
  },
  {
   "cell_type": "code",
   "execution_count": 23,
   "metadata": {},
   "outputs": [],
   "source": [
    "number_of_friends = 3"
   ]
  }
 ],
 "metadata": {
  "kernelspec": {
   "display_name": "Python 3 (system-wide)",
   "language": "python",
   "name": "python3"
  },
  "language_info": {
   "codemirror_mode": {
    "name": "ipython",
    "version": 3
   },
   "file_extension": ".py",
   "mimetype": "text/x-python",
   "name": "python",
   "nbconvert_exporter": "python",
   "pygments_lexer": "ipython3",
   "version": "3.8.10"
  }
 },
 "nbformat": 4,
 "nbformat_minor": 4
}
