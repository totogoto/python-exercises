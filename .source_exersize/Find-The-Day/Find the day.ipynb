{
 "cells": [
  {
   "cell_type": "markdown",
   "metadata": {},
   "source": [
    "# Find the day of the Week\n",
    "\n",
    "The cell below has some code to get you started\n",
    "- It sets up a few useful variables \n",
    "- Uses the `input()` function that asks the user to enter values (try it out!)\n",
    "\n",
    "You need to write to code find out what day that date falls on (Eg. if the user enters 15/8/2005 - you should say its a Monday)\n",
    "- 1st Jan 2000 is a __Saturday__\n",
    "- Use that knowledge to compute the day of the week for any entered input \n",
    "\n",
    "- You need to handle leap years! \n",
    "    - A leap year is exactly divisible by 4 except for century years (years ending with 00). \n",
    "    - The century year is a leap year only if it is perfectly divisible by 400. For example,\n",
    "    - 2017 is not a leap year, 2012 is a leap year, 2000 is a leap year, 2100 is not a leap year\n",
    "    - On a leap year, Feb has 29 days\n",
    "- Count the number of days since 1 Jan 2000, and use that to figure out the day of the week (Hint: reminder of division by 7!)\n"
   ]
  },
  {
   "cell_type": "code",
   "execution_count": 4,
   "metadata": {},
   "outputs": [
    {
     "name": "stdout",
     "output_type": "stream",
     "text": [
      "Enter the year (after 2000):\n",
      "2005\n",
      "Enter the Month number (Jan is 1, Dec is 12):\n",
      "8\n",
      "Enter the date (1-31):\n",
      "15\n",
      "The date entered is 15/8/2005\n"
     ]
    }
   ],
   "source": [
    "days_in_each_month = [31,28,31,30,31,30,31,31,30,31,30,31]\n",
    "day_names = [\"Sun\",\"Mon\",\"Tue\",\"Wed\",\"Thu\",\"Fri\",\"Sat\"]\n",
    "\n",
    "print(\"Enter the year (after 2000):\")\n",
    "year=int(input())\n",
    "print(\"Enter the Month number (Jan is 1, Dec is 12):\")\n",
    "month=int(input())\n",
    "print(\"Enter the date (1-31):\")\n",
    "date=int(input())\n",
    "\n",
    "print(f\"The date entered is {date}/{month}/{year}\")"
   ]
  },
  {
   "cell_type": "code",
   "execution_count": 1,
   "metadata": {},
   "outputs": [],
   "source": [
    "# Your code here. \n",
    "# Find the day of the week for the given date above\n",
    "\n"
   ]
  },
  {
   "cell_type": "code",
   "execution_count": null,
   "metadata": {},
   "outputs": [],
   "source": []
  }
 ],
 "metadata": {
  "kernelspec": {
   "display_name": "Python 3 (system-wide)",
   "language": "python",
   "name": "python3"
  },
  "language_info": {
   "codemirror_mode": {
    "name": "ipython",
    "version": 3
   },
   "file_extension": ".py",
   "mimetype": "text/x-python",
   "name": "python",
   "nbconvert_exporter": "python",
   "pygments_lexer": "ipython3",
   "version": "3.8.10"
  }
 },
 "nbformat": 4,
 "nbformat_minor": 4
}
