{
 "cells": [
  {
   "cell_type": "code",
   "execution_count": 1,
   "metadata": {},
   "outputs": [
    {
     "name": "stdout",
     "output_type": "stream",
     "text": [
      "ottopy version: 0.1.18\n"
     ]
    }
   ],
   "source": [
    "from worlds.levels import get_robo"
   ]
  },
  {
   "cell_type": "markdown",
   "metadata": {},
   "source": [
    "# Start Simple\n",
    "Help Otto to pick only Apple.\n",
    "\n",
    "## What you need to know\n",
    "- The functions `move()`to move \n",
    "- calling `move()` in front of a wall causes otto to crash into the wall and the program errors out. Please take care of otto 🤗\t\n",
    "- The function `take()` picks the object of the current cell.\n",
    "- The function `object_here()` returns the object in the current cell (in this case \"carrot\" on cells with carrots)\n"
   ]
  },
  {
   "cell_type": "code",
   "execution_count": 7,
   "metadata": {},
   "outputs": [
    {
     "data": {
      "application/vnd.jupyter.widget-view+json": {
       "model_id": "2e97da3bb2814c94a5cf092ebe14823d",
       "version_major": 2,
       "version_minor": 0
      },
      "text/plain": [
       "Maze()"
      ]
     },
     "metadata": {},
     "output_type": "display_data"
    },
    {
     "name": "stdout",
     "output_type": "stream",
     "text": [
      "Found apple\n",
      "Found carrot\n",
      "Found banana\n",
      "Found carrot\n",
      "Found carrot\n",
      "Found orange\n",
      "Found apple\n",
      "Found apple\n",
      "Found apple\n"
     ]
    },
    {
     "data": {
      "text/html": [
       "<text style=color:red>✗ Expected: Pick object apple at: 2,1</text>"
      ],
      "text/plain": [
       "<IPython.core.display.HTML object>"
      ]
     },
     "metadata": {},
     "output_type": "display_data"
    },
    {
     "data": {
      "text/html": [
       "<text style=color:red>✗ Expected: Pick object apple at: 8,1</text>"
      ],
      "text/plain": [
       "<IPython.core.display.HTML object>"
      ]
     },
     "metadata": {},
     "output_type": "display_data"
    },
    {
     "data": {
      "text/html": [
       "<text style=color:red>✗ Expected: Pick object apple at: 9,1</text>"
      ],
      "text/plain": [
       "<IPython.core.display.HTML object>"
      ]
     },
     "metadata": {},
     "output_type": "display_data"
    },
    {
     "data": {
      "text/html": [
       "<text style=color:red>✗ Expected: Pick object apple at: 10,1</text>"
      ],
      "text/plain": [
       "<IPython.core.display.HTML object>"
      ]
     },
     "metadata": {},
     "output_type": "display_data"
    }
   ],
   "source": [
    "bot  = get_robo(\"simple\")\n",
    "\n",
    "for x in range(9):\n",
    "    bot.move()\n",
    "    print(f\"Found {bot.object_here()}\")\n",
    "\n",
    "bot.check()"
   ]
  },
  {
   "cell_type": "code",
   "execution_count": null,
   "metadata": {},
   "outputs": [],
   "source": []
  }
 ],
 "metadata": {
  "interpreter": {
   "hash": "30fed4a27905c6b3716a276fc87105b6c403805cf46e82a30f1e7fdcc5e3a868"
  },
  "kernelspec": {
   "display_name": "Python 3.9.5 64-bit ('totogoto': conda)",
   "language": "python",
   "name": "python3"
  },
  "language_info": {
   "codemirror_mode": {
    "name": "ipython",
    "version": 3
   },
   "file_extension": ".py",
   "mimetype": "text/x-python",
   "name": "python",
   "nbconvert_exporter": "python",
   "pygments_lexer": "ipython3",
   "version": "3.9.5"
  },
  "orig_nbformat": 4
 },
 "nbformat": 4,
 "nbformat_minor": 2
}
