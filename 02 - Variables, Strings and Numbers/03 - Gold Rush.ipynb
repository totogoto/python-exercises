{
 "cells": [
  {
   "cell_type": "markdown",
   "metadata": {},
   "source": [
    "# Gold Rush\n",
    "\n",
    "4 Space Wizards Merlin, Gandalf, Yoda and Prospero are on a gold hunt in the galaxy of Aurumnica\n",
    "\n",
    "They cast a powerful spell and *poof* appears a bag of gold nuggets. Let's use the power of Python to help them track their gold trough their adventure\n",
    "\n",
    "#### What you need to know\n",
    "Operators in Python\n",
    "```\n",
    "+ Addition\n",
    "- Subtraction\n",
    "/ Division\n",
    "* Multiplication\n",
    "** Exponentiation\n",
    "% Reminder (or modulo)\n",
    "// floor division\n",
    "```"
   ]
  },
  {
   "cell_type": "code",
   "execution_count": null,
   "metadata": {},
   "outputs": [],
   "source": [
    "import random \n",
    "gold = random.randint(15,17)\n",
    "\n",
    "\n",
    "print(f\"{gold} gold nuggets created from space dust\")\n",
    "print(\"🟡 \"*gold)"
   ]
  },
  {
   "cell_type": "markdown",
   "metadata": {},
   "source": [
    "Merlin finds 111 more gold nuggets hidden under mount doom, can you update the total?"
   ]
  },
  {
   "cell_type": "code",
   "execution_count": null,
   "metadata": {},
   "outputs": [],
   "source": [
    "#your code here\n",
    "\n",
    "print(f\"{gold} gold nuggets\")\n",
    "print(\"🟡 \"*gold)"
   ]
  },
  {
   "cell_type": "markdown",
   "metadata": {},
   "source": [
    "You all get stuck surrounded by orcs. \n",
    "\n",
    "Eagles arrive to fly you out and as a token of friendship, you part with 5 gold nuggets!"
   ]
  },
  {
   "cell_type": "code",
   "execution_count": null,
   "metadata": {},
   "outputs": [],
   "source": [
    "#your code here\n",
    "\n",
    "print(f\"{gold} gold nuggets\")\n",
    "print(\"🟡 \"*gold)"
   ]
  },
  {
   "cell_type": "markdown",
   "metadata": {},
   "source": [
    "### 🪄 🪄 🪄 \n",
    "Yoda enters a cave and finds a wand that can triple what it touches. He uses it to triple all the nuggets\n",
    "### 🪄 🪄 🪄 "
   ]
  },
  {
   "cell_type": "code",
   "execution_count": null,
   "metadata": {},
   "outputs": [],
   "source": [
    "#your code here\n",
    "\n",
    "print(f\"{gold} gold nuggets\")\n",
    "print(\"🟡 \"*gold)"
   ]
  },
  {
   "cell_type": "markdown",
   "metadata": {},
   "source": [
    "The wizards now decide to part ways and bid each other farewell!\n",
    "Its time to share the treasure in a fair way \n",
    "\n",
    "Each wizard gets exactly the same number of nuggets and the __nuggets cannot be broken__!\n",
    "\n",
    "Divide the treasure and help the wizard get their fair share"
   ]
  },
  {
   "cell_type": "code",
   "execution_count": null,
   "metadata": {},
   "outputs": [],
   "source": [
    "gold_per_person = gold # change this line\n",
    "\n",
    "print(gold_per_person)\n",
    "print(\"🟡 \"*gold_per_person)"
   ]
  },
  {
   "cell_type": "markdown",
   "metadata": {},
   "source": [
    "To be fair the remaining gold should be converted back to space dust, for all gold comes from space dust"
   ]
  },
  {
   "cell_type": "code",
   "execution_count": null,
   "metadata": {},
   "outputs": [],
   "source": [
    "remaining = gold # fix this line\n",
    "\n",
    "print(f\"{remaining} coins converted to space dust\")\n"
   ]
  }
 ],
 "metadata": {
  "interpreter": {
   "hash": "30fed4a27905c6b3716a276fc87105b6c403805cf46e82a30f1e7fdcc5e3a868"
  },
  "kernelspec": {
   "display_name": "Python 3 (system-wide)",
   "language": "python",
   "name": "python3"
  },
  "language_info": {
   "codemirror_mode": {
    "name": "ipython",
    "version": 3
   },
   "file_extension": ".py",
   "mimetype": "text/x-python",
   "name": "python",
   "nbconvert_exporter": "python",
   "pygments_lexer": "ipython3",
   "version": "3.8.10"
  }
 },
 "nbformat": 4,
 "nbformat_minor": 2
}
